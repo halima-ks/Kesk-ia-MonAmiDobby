{
  "cells": [
    {
      "cell_type": "markdown",
      "metadata": {
        "id": "pH5D9JLmTVnB"
      },
      "source": [
        "# Installation des dépendances\n",
        "\n",
        "Pour pouvoir exécuter ce Notebook, l'environnement de développement doit être bien configuré.\n",
        "\n",
        "<div class=\"alert alert-info\">\n",
        "    Pour ce Notebook, on pourra choisir le kernel <code>conda_tensorflow2_p310</code> sur SageMaker.\n",
        "</div>"
      ]
    },
    {
      "cell_type": "code",
      "execution_count": null,
      "metadata": {
        "colab": {
          "base_uri": "https://localhost:8080/"
        },
        "id": "SbSj5jFGS1RA",
        "outputId": "84b41acc-5ae5-48ba-89f7-1f5de61f4dc2",
        "tags": []
      },
      "outputs": [
        {
          "output_type": "stream",
          "name": "stdout",
          "text": [
            "\u001b[2K     \u001b[90m━━━━━━━━━━━━━━━━━━━━━━━━━━━━━━━━━━━━━━━━\u001b[0m \u001b[32m6.8/6.8 MB\u001b[0m \u001b[31m44.3 MB/s\u001b[0m eta \u001b[36m0:00:00\u001b[0m\n",
            "\u001b[2K     \u001b[90m━━━━━━━━━━━━━━━━━━━━━━━━━━━━━━━━━━━━━━\u001b[0m \u001b[32m469.0/469.0 KB\u001b[0m \u001b[31m20.3 MB/s\u001b[0m eta \u001b[36m0:00:00\u001b[0m\n",
            "\u001b[2K     \u001b[90m━━━━━━━━━━━━━━━━━━━━━━━━━━━━━━━━━━━━━━━━\u001b[0m \u001b[32m1.3/1.3 MB\u001b[0m \u001b[31m33.5 MB/s\u001b[0m eta \u001b[36m0:00:00\u001b[0m\n",
            "\u001b[2K     \u001b[90m━━━━━━━━━━━━━━━━━━━━━━━━━━━━━━━━━━━━━━\u001b[0m \u001b[32m199.8/199.8 KB\u001b[0m \u001b[31m12.5 MB/s\u001b[0m eta \u001b[36m0:00:00\u001b[0m\n",
            "\u001b[2K     \u001b[90m━━━━━━━━━━━━━━━━━━━━━━━━━━━━━━━━━━━━━━━━\u001b[0m \u001b[32m7.6/7.6 MB\u001b[0m \u001b[31m42.9 MB/s\u001b[0m eta \u001b[36m0:00:00\u001b[0m\n",
            "\u001b[2K     \u001b[90m━━━━━━━━━━━━━━━━━━━━━━━━━━━━━━━━━━━━━━━\u001b[0m \u001b[32m110.5/110.5 KB\u001b[0m \u001b[31m3.7 MB/s\u001b[0m eta \u001b[36m0:00:00\u001b[0m\n",
            "\u001b[2K     \u001b[90m━━━━━━━━━━━━━━━━━━━━━━━━━━━━━━━━━━━━━━━\u001b[0m \u001b[32m132.9/132.9 KB\u001b[0m \u001b[31m4.2 MB/s\u001b[0m eta \u001b[36m0:00:00\u001b[0m\n",
            "\u001b[2K     \u001b[90m━━━━━━━━━━━━━━━━━━━━━━━━━━━━━━━━━━━━━━━━\u001b[0m \u001b[32m1.0/1.0 MB\u001b[0m \u001b[31m4.9 MB/s\u001b[0m eta \u001b[36m0:00:00\u001b[0m\n",
            "\u001b[2K     \u001b[90m━━━━━━━━━━━━━━━━━━━━━━━━━━━━━━━━━━━━━━\u001b[0m \u001b[32m212.2/212.2 KB\u001b[0m \u001b[31m11.4 MB/s\u001b[0m eta \u001b[36m0:00:00\u001b[0m\n",
            "\u001b[2K     \u001b[90m━━━━━━━━━━━━━━━━━━━━━━━━━━━━━━━━━━━━━━\u001b[0m \u001b[32m264.6/264.6 KB\u001b[0m \u001b[31m15.4 MB/s\u001b[0m eta \u001b[36m0:00:00\u001b[0m\n",
            "\u001b[2K     \u001b[90m━━━━━━━━━━━━━━━━━━━━━━━━━━━━━━━━━━━━━━\u001b[0m \u001b[32m158.8/158.8 KB\u001b[0m \u001b[31m13.4 MB/s\u001b[0m eta \u001b[36m0:00:00\u001b[0m\n",
            "\u001b[2K     \u001b[90m━━━━━━━━━━━━━━━━━━━━━━━━━━━━━━━━━━━━━━━\u001b[0m \u001b[32m114.2/114.2 KB\u001b[0m \u001b[31m7.5 MB/s\u001b[0m eta \u001b[36m0:00:00\u001b[0m\n",
            "\u001b[?25h"
          ]
        }
      ],
      "source": [
        "!pip install spacy transformers datasets sentencepiece seaborn pandas -q"
      ]
    },
    {
      "cell_type": "markdown",
      "metadata": {
        "id": "7TPKXiSZTfIO"
      },
      "source": [
        "De même, nous allons utiliser un jeu de données supplémentaire de HuggingFace pour enrichir notre base."
      ]
    },
    {
      "cell_type": "code",
      "execution_count": null,
      "metadata": {
        "colab": {
          "base_uri": "https://localhost:8080/"
        },
        "id": "LwmiIuaATdl6",
        "outputId": "d7222f9e-43c6-4d37-e92e-66f32eb431cc",
        "tags": []
      },
      "outputs": [
        {
          "output_type": "stream",
          "name": "stdout",
          "text": [
            "Error: Failed to call git rev-parse --git-dir: exit status 128 \n",
            "Git LFS initialized.\n",
            "Cloning into 'hatecheck-french'...\n",
            "remote: Enumerating objects: 15, done.\u001b[K\n",
            "remote: Total 15 (delta 0), reused 0 (delta 0), pack-reused 15\u001b[K\n",
            "Unpacking objects: 100% (15/15), 80.00 KiB | 2.67 MiB/s, done.\n"
          ]
        }
      ],
      "source": [
        "!git lfs install\n",
        "!git clone https://huggingface.co/datasets/Paul/hatecheck-french"
      ]
    },
    {
      "cell_type": "markdown",
      "metadata": {
        "id": "7U4s8s14Ty8A"
      },
      "source": [
        "Enfin, spaCy nous permettra de faire des opérations de traitement du texte adapté à la langue française."
      ]
    },
    {
      "cell_type": "code",
      "execution_count": null,
      "metadata": {
        "colab": {
          "base_uri": "https://localhost:8080/"
        },
        "id": "7Ywi2oekTv7l",
        "outputId": "304e0cc9-ca59-418a-e942-6bd75b2ec650",
        "tags": []
      },
      "outputs": [
        {
          "output_type": "stream",
          "name": "stdout",
          "text": [
            "2023-03-22 10:23:48.068542: I tensorflow/core/platform/cpu_feature_guard.cc:193] This TensorFlow binary is optimized with oneAPI Deep Neural Network Library (oneDNN) to use the following CPU instructions in performance-critical operations:  AVX2 FMA\n",
            "To enable them in other operations, rebuild TensorFlow with the appropriate compiler flags.\n",
            "2023-03-22 10:23:49.317568: W tensorflow/compiler/xla/stream_executor/platform/default/dso_loader.cc:64] Could not load dynamic library 'libnvinfer.so.7'; dlerror: libnvinfer.so.7: cannot open shared object file: No such file or directory; LD_LIBRARY_PATH: /usr/lib64-nvidia\n",
            "2023-03-22 10:23:49.317738: W tensorflow/compiler/xla/stream_executor/platform/default/dso_loader.cc:64] Could not load dynamic library 'libnvinfer_plugin.so.7'; dlerror: libnvinfer_plugin.so.7: cannot open shared object file: No such file or directory; LD_LIBRARY_PATH: /usr/lib64-nvidia\n",
            "2023-03-22 10:23:49.317769: W tensorflow/compiler/tf2tensorrt/utils/py_utils.cc:38] TF-TRT Warning: Cannot dlopen some TensorRT libraries. If you would like to use Nvidia GPU with TensorRT, please make sure the missing libraries mentioned above are installed properly.\n",
            "Looking in indexes: https://pypi.org/simple, https://us-python.pkg.dev/colab-wheels/public/simple/\n",
            "Collecting fr-core-news-sm==3.5.0\n",
            "  Downloading https://github.com/explosion/spacy-models/releases/download/fr_core_news_sm-3.5.0/fr_core_news_sm-3.5.0-py3-none-any.whl (16.3 MB)\n",
            "\u001b[2K     \u001b[90m━━━━━━━━━━━━━━━━━━━━━━━━━━━━━━━━━━━━━━━━\u001b[0m \u001b[32m16.3/16.3 MB\u001b[0m \u001b[31m16.1 MB/s\u001b[0m eta \u001b[36m0:00:00\u001b[0m\n",
            "\u001b[?25hRequirement already satisfied: spacy<3.6.0,>=3.5.0 in /usr/local/lib/python3.9/dist-packages (from fr-core-news-sm==3.5.0) (3.5.1)\n",
            "Requirement already satisfied: typer<0.8.0,>=0.3.0 in /usr/local/lib/python3.9/dist-packages (from spacy<3.6.0,>=3.5.0->fr-core-news-sm==3.5.0) (0.7.0)\n",
            "Requirement already satisfied: catalogue<2.1.0,>=2.0.6 in /usr/local/lib/python3.9/dist-packages (from spacy<3.6.0,>=3.5.0->fr-core-news-sm==3.5.0) (2.0.8)\n",
            "Requirement already satisfied: spacy-legacy<3.1.0,>=3.0.11 in /usr/local/lib/python3.9/dist-packages (from spacy<3.6.0,>=3.5.0->fr-core-news-sm==3.5.0) (3.0.12)\n",
            "Requirement already satisfied: wasabi<1.2.0,>=0.9.1 in /usr/local/lib/python3.9/dist-packages (from spacy<3.6.0,>=3.5.0->fr-core-news-sm==3.5.0) (1.1.1)\n",
            "Requirement already satisfied: preshed<3.1.0,>=3.0.2 in /usr/local/lib/python3.9/dist-packages (from spacy<3.6.0,>=3.5.0->fr-core-news-sm==3.5.0) (3.0.8)\n",
            "Requirement already satisfied: tqdm<5.0.0,>=4.38.0 in /usr/local/lib/python3.9/dist-packages (from spacy<3.6.0,>=3.5.0->fr-core-news-sm==3.5.0) (4.65.0)\n",
            "Requirement already satisfied: numpy>=1.15.0 in /usr/local/lib/python3.9/dist-packages (from spacy<3.6.0,>=3.5.0->fr-core-news-sm==3.5.0) (1.22.4)\n",
            "Requirement already satisfied: murmurhash<1.1.0,>=0.28.0 in /usr/local/lib/python3.9/dist-packages (from spacy<3.6.0,>=3.5.0->fr-core-news-sm==3.5.0) (1.0.9)\n",
            "Requirement already satisfied: srsly<3.0.0,>=2.4.3 in /usr/local/lib/python3.9/dist-packages (from spacy<3.6.0,>=3.5.0->fr-core-news-sm==3.5.0) (2.4.6)\n",
            "Requirement already satisfied: cymem<2.1.0,>=2.0.2 in /usr/local/lib/python3.9/dist-packages (from spacy<3.6.0,>=3.5.0->fr-core-news-sm==3.5.0) (2.0.7)\n",
            "Requirement already satisfied: requests<3.0.0,>=2.13.0 in /usr/local/lib/python3.9/dist-packages (from spacy<3.6.0,>=3.5.0->fr-core-news-sm==3.5.0) (2.27.1)\n",
            "Requirement already satisfied: langcodes<4.0.0,>=3.2.0 in /usr/local/lib/python3.9/dist-packages (from spacy<3.6.0,>=3.5.0->fr-core-news-sm==3.5.0) (3.3.0)\n",
            "Requirement already satisfied: pathy>=0.10.0 in /usr/local/lib/python3.9/dist-packages (from spacy<3.6.0,>=3.5.0->fr-core-news-sm==3.5.0) (0.10.1)\n",
            "Requirement already satisfied: smart-open<7.0.0,>=5.2.1 in /usr/local/lib/python3.9/dist-packages (from spacy<3.6.0,>=3.5.0->fr-core-news-sm==3.5.0) (6.3.0)\n",
            "Requirement already satisfied: setuptools in /usr/local/lib/python3.9/dist-packages (from spacy<3.6.0,>=3.5.0->fr-core-news-sm==3.5.0) (63.4.3)\n",
            "Requirement already satisfied: packaging>=20.0 in /usr/local/lib/python3.9/dist-packages (from spacy<3.6.0,>=3.5.0->fr-core-news-sm==3.5.0) (23.0)\n",
            "Requirement already satisfied: pydantic!=1.8,!=1.8.1,<1.11.0,>=1.7.4 in /usr/local/lib/python3.9/dist-packages (from spacy<3.6.0,>=3.5.0->fr-core-news-sm==3.5.0) (1.10.6)\n",
            "Requirement already satisfied: thinc<8.2.0,>=8.1.8 in /usr/local/lib/python3.9/dist-packages (from spacy<3.6.0,>=3.5.0->fr-core-news-sm==3.5.0) (8.1.9)\n",
            "Requirement already satisfied: spacy-loggers<2.0.0,>=1.0.0 in /usr/local/lib/python3.9/dist-packages (from spacy<3.6.0,>=3.5.0->fr-core-news-sm==3.5.0) (1.0.4)\n",
            "Requirement already satisfied: jinja2 in /usr/local/lib/python3.9/dist-packages (from spacy<3.6.0,>=3.5.0->fr-core-news-sm==3.5.0) (3.1.2)\n",
            "Requirement already satisfied: typing-extensions>=4.2.0 in /usr/local/lib/python3.9/dist-packages (from pydantic!=1.8,!=1.8.1,<1.11.0,>=1.7.4->spacy<3.6.0,>=3.5.0->fr-core-news-sm==3.5.0) (4.5.0)\n",
            "Requirement already satisfied: idna<4,>=2.5 in /usr/local/lib/python3.9/dist-packages (from requests<3.0.0,>=2.13.0->spacy<3.6.0,>=3.5.0->fr-core-news-sm==3.5.0) (3.4)\n",
            "Requirement already satisfied: urllib3<1.27,>=1.21.1 in /usr/local/lib/python3.9/dist-packages (from requests<3.0.0,>=2.13.0->spacy<3.6.0,>=3.5.0->fr-core-news-sm==3.5.0) (1.26.15)\n",
            "Requirement already satisfied: certifi>=2017.4.17 in /usr/local/lib/python3.9/dist-packages (from requests<3.0.0,>=2.13.0->spacy<3.6.0,>=3.5.0->fr-core-news-sm==3.5.0) (2022.12.7)\n",
            "Requirement already satisfied: charset-normalizer~=2.0.0 in /usr/local/lib/python3.9/dist-packages (from requests<3.0.0,>=2.13.0->spacy<3.6.0,>=3.5.0->fr-core-news-sm==3.5.0) (2.0.12)\n",
            "Requirement already satisfied: blis<0.8.0,>=0.7.8 in /usr/local/lib/python3.9/dist-packages (from thinc<8.2.0,>=8.1.8->spacy<3.6.0,>=3.5.0->fr-core-news-sm==3.5.0) (0.7.9)\n",
            "Requirement already satisfied: confection<1.0.0,>=0.0.1 in /usr/local/lib/python3.9/dist-packages (from thinc<8.2.0,>=8.1.8->spacy<3.6.0,>=3.5.0->fr-core-news-sm==3.5.0) (0.0.4)\n",
            "Requirement already satisfied: click<9.0.0,>=7.1.1 in /usr/local/lib/python3.9/dist-packages (from typer<0.8.0,>=0.3.0->spacy<3.6.0,>=3.5.0->fr-core-news-sm==3.5.0) (8.1.3)\n",
            "Requirement already satisfied: MarkupSafe>=2.0 in /usr/local/lib/python3.9/dist-packages (from jinja2->spacy<3.6.0,>=3.5.0->fr-core-news-sm==3.5.0) (2.1.2)\n",
            "Installing collected packages: fr-core-news-sm\n",
            "Successfully installed fr-core-news-sm-3.5.0\n",
            "\u001b[38;5;2m✔ Download and installation successful\u001b[0m\n",
            "You can now load the package via spacy.load('fr_core_news_sm')\n"
          ]
        }
      ],
      "source": [
        "!python -m spacy download fr_core_news_sm"
      ]
    },
    {
      "cell_type": "markdown",
      "metadata": {
        "id": "KcokZH0eUGdK"
      },
      "source": [
        "# Analyse exploratoire des données\n",
        "\n",
        "Pour cette analyse exploiratoire, le dataset `mlma.csv` doit être présent dans l'environnement de développement, situé dans le même dossier que ce Notebook."
      ]
    },
    {
      "cell_type": "code",
      "execution_count": null,
      "metadata": {
        "tags": [],
        "colab": {
          "base_uri": "https://localhost:8080/"
        },
        "id": "roMSW0uI18fn",
        "outputId": "d2774c51-7911-474a-c35b-45a938250f07"
      },
      "outputs": [
        {
          "output_type": "stream",
          "name": "stdout",
          "text": [
            "Archive:  data/french_tweets.csv.zip\n",
            "  inflating: data/french_tweets.csv  \n"
          ]
        }
      ],
      "source": [
        "!mkdir -p data/\n",
        "!wget -q https://blent-keskia.s3.eu-west-3.amazonaws.com/poc/cyberharcelement/french_tweets.csv.zip -O data/french_tweets.csv.zip\n",
        "!wget -q https://blent-keskia.s3.eu-west-3.amazonaws.com/poc/cyberharcelement/mlma.csv -O data/mlma.csv\n",
        "!unzip -o data/french_tweets.csv.zip -d data"
      ]
    },
    {
      "cell_type": "code",
      "execution_count": null,
      "metadata": {
        "id": "SWXZFVCfT3zX",
        "tags": []
      },
      "outputs": [],
      "source": [
        "import os\n",
        "import seaborn as sns\n",
        "import pandas as pd\n",
        "import numpy as np\n",
        "import matplotlib.pyplot as plt\n",
        "\n",
        "sns.set()\n",
        "\n",
        "data = pd.read_csv(\"data/mlma.csv\")\n",
        "tweets = pd.read_csv(\"data/french_tweets.csv\")"
      ]
    },
    {
      "cell_type": "markdown",
      "metadata": {
        "id": "zd2PLuY8UVLV"
      },
      "source": [
        "De même, nous chargeons le jeu de données HateCheck téléchargé depuis HuggingFace."
      ]
    },
    {
      "cell_type": "code",
      "execution_count": null,
      "metadata": {
        "id": "nAysGsT2US0e",
        "tags": []
      },
      "outputs": [],
      "source": [
        "hatecheck = pd.read_csv(\"hatecheck-french/test.csv\")"
      ]
    },
    {
      "cell_type": "markdown",
      "metadata": {
        "id": "OlHJ-O9OUfjQ"
      },
      "source": [
        "Regardons à quoi ressemblent les deux jeux de données."
      ]
    },
    {
      "cell_type": "code",
      "execution_count": null,
      "metadata": {
        "colab": {
          "base_uri": "https://localhost:8080/",
          "height": 206
        },
        "id": "08Z0d4A5Ubeh",
        "outputId": "d5d4bcfb-8bbd-41ff-cfc4-9613ea075b9a",
        "tags": []
      },
      "outputs": [
        {
          "output_type": "execute_result",
          "data": {
            "text/plain": [
              "   HITId                                              tweet  sentiment  \\\n",
              "0      1  rt @user personnage ainsi q tte la clique gauc...    abusive   \n",
              "1      2  @user @user @user bah oui t'as raison l'autre ...  offensive   \n",
              "2      3  moi j'ai personne à qui m'adresser pour réclam...    hateful   \n",
              "3      4  @user @user c...est vrai que les anchois sont ...     normal   \n",
              "4      5            eh les renois faut se réveiller la @url     normal   \n",
              "\n",
              "  directness                   annotator_sentiment  target            group  \n",
              "0     direct                                 shock  origin            other  \n",
              "1   indirect                                 shock   other       individual  \n",
              "2     direct  anger_confusion_sadness_fear_disgust   other            women  \n",
              "3   indirect                          indifference   other            other  \n",
              "4     direct                               sadness  origin  african_descent  "
            ],
            "text/html": [
              "\n",
              "  <div id=\"df-1871010e-d39b-48a4-bb11-4597894e3e31\">\n",
              "    <div class=\"colab-df-container\">\n",
              "      <div>\n",
              "<style scoped>\n",
              "    .dataframe tbody tr th:only-of-type {\n",
              "        vertical-align: middle;\n",
              "    }\n",
              "\n",
              "    .dataframe tbody tr th {\n",
              "        vertical-align: top;\n",
              "    }\n",
              "\n",
              "    .dataframe thead th {\n",
              "        text-align: right;\n",
              "    }\n",
              "</style>\n",
              "<table border=\"1\" class=\"dataframe\">\n",
              "  <thead>\n",
              "    <tr style=\"text-align: right;\">\n",
              "      <th></th>\n",
              "      <th>HITId</th>\n",
              "      <th>tweet</th>\n",
              "      <th>sentiment</th>\n",
              "      <th>directness</th>\n",
              "      <th>annotator_sentiment</th>\n",
              "      <th>target</th>\n",
              "      <th>group</th>\n",
              "    </tr>\n",
              "  </thead>\n",
              "  <tbody>\n",
              "    <tr>\n",
              "      <th>0</th>\n",
              "      <td>1</td>\n",
              "      <td>rt @user personnage ainsi q tte la clique gauc...</td>\n",
              "      <td>abusive</td>\n",
              "      <td>direct</td>\n",
              "      <td>shock</td>\n",
              "      <td>origin</td>\n",
              "      <td>other</td>\n",
              "    </tr>\n",
              "    <tr>\n",
              "      <th>1</th>\n",
              "      <td>2</td>\n",
              "      <td>@user @user @user bah oui t'as raison l'autre ...</td>\n",
              "      <td>offensive</td>\n",
              "      <td>indirect</td>\n",
              "      <td>shock</td>\n",
              "      <td>other</td>\n",
              "      <td>individual</td>\n",
              "    </tr>\n",
              "    <tr>\n",
              "      <th>2</th>\n",
              "      <td>3</td>\n",
              "      <td>moi j'ai personne à qui m'adresser pour réclam...</td>\n",
              "      <td>hateful</td>\n",
              "      <td>direct</td>\n",
              "      <td>anger_confusion_sadness_fear_disgust</td>\n",
              "      <td>other</td>\n",
              "      <td>women</td>\n",
              "    </tr>\n",
              "    <tr>\n",
              "      <th>3</th>\n",
              "      <td>4</td>\n",
              "      <td>@user @user c...est vrai que les anchois sont ...</td>\n",
              "      <td>normal</td>\n",
              "      <td>indirect</td>\n",
              "      <td>indifference</td>\n",
              "      <td>other</td>\n",
              "      <td>other</td>\n",
              "    </tr>\n",
              "    <tr>\n",
              "      <th>4</th>\n",
              "      <td>5</td>\n",
              "      <td>eh les renois faut se réveiller la @url</td>\n",
              "      <td>normal</td>\n",
              "      <td>direct</td>\n",
              "      <td>sadness</td>\n",
              "      <td>origin</td>\n",
              "      <td>african_descent</td>\n",
              "    </tr>\n",
              "  </tbody>\n",
              "</table>\n",
              "</div>\n",
              "      <button class=\"colab-df-convert\" onclick=\"convertToInteractive('df-1871010e-d39b-48a4-bb11-4597894e3e31')\"\n",
              "              title=\"Convert this dataframe to an interactive table.\"\n",
              "              style=\"display:none;\">\n",
              "        \n",
              "  <svg xmlns=\"http://www.w3.org/2000/svg\" height=\"24px\"viewBox=\"0 0 24 24\"\n",
              "       width=\"24px\">\n",
              "    <path d=\"M0 0h24v24H0V0z\" fill=\"none\"/>\n",
              "    <path d=\"M18.56 5.44l.94 2.06.94-2.06 2.06-.94-2.06-.94-.94-2.06-.94 2.06-2.06.94zm-11 1L8.5 8.5l.94-2.06 2.06-.94-2.06-.94L8.5 2.5l-.94 2.06-2.06.94zm10 10l.94 2.06.94-2.06 2.06-.94-2.06-.94-.94-2.06-.94 2.06-2.06.94z\"/><path d=\"M17.41 7.96l-1.37-1.37c-.4-.4-.92-.59-1.43-.59-.52 0-1.04.2-1.43.59L10.3 9.45l-7.72 7.72c-.78.78-.78 2.05 0 2.83L4 21.41c.39.39.9.59 1.41.59.51 0 1.02-.2 1.41-.59l7.78-7.78 2.81-2.81c.8-.78.8-2.07 0-2.86zM5.41 20L4 18.59l7.72-7.72 1.47 1.35L5.41 20z\"/>\n",
              "  </svg>\n",
              "      </button>\n",
              "      \n",
              "  <style>\n",
              "    .colab-df-container {\n",
              "      display:flex;\n",
              "      flex-wrap:wrap;\n",
              "      gap: 12px;\n",
              "    }\n",
              "\n",
              "    .colab-df-convert {\n",
              "      background-color: #E8F0FE;\n",
              "      border: none;\n",
              "      border-radius: 50%;\n",
              "      cursor: pointer;\n",
              "      display: none;\n",
              "      fill: #1967D2;\n",
              "      height: 32px;\n",
              "      padding: 0 0 0 0;\n",
              "      width: 32px;\n",
              "    }\n",
              "\n",
              "    .colab-df-convert:hover {\n",
              "      background-color: #E2EBFA;\n",
              "      box-shadow: 0px 1px 2px rgba(60, 64, 67, 0.3), 0px 1px 3px 1px rgba(60, 64, 67, 0.15);\n",
              "      fill: #174EA6;\n",
              "    }\n",
              "\n",
              "    [theme=dark] .colab-df-convert {\n",
              "      background-color: #3B4455;\n",
              "      fill: #D2E3FC;\n",
              "    }\n",
              "\n",
              "    [theme=dark] .colab-df-convert:hover {\n",
              "      background-color: #434B5C;\n",
              "      box-shadow: 0px 1px 3px 1px rgba(0, 0, 0, 0.15);\n",
              "      filter: drop-shadow(0px 1px 2px rgba(0, 0, 0, 0.3));\n",
              "      fill: #FFFFFF;\n",
              "    }\n",
              "  </style>\n",
              "\n",
              "      <script>\n",
              "        const buttonEl =\n",
              "          document.querySelector('#df-1871010e-d39b-48a4-bb11-4597894e3e31 button.colab-df-convert');\n",
              "        buttonEl.style.display =\n",
              "          google.colab.kernel.accessAllowed ? 'block' : 'none';\n",
              "\n",
              "        async function convertToInteractive(key) {\n",
              "          const element = document.querySelector('#df-1871010e-d39b-48a4-bb11-4597894e3e31');\n",
              "          const dataTable =\n",
              "            await google.colab.kernel.invokeFunction('convertToInteractive',\n",
              "                                                     [key], {});\n",
              "          if (!dataTable) return;\n",
              "\n",
              "          const docLinkHtml = 'Like what you see? Visit the ' +\n",
              "            '<a target=\"_blank\" href=https://colab.research.google.com/notebooks/data_table.ipynb>data table notebook</a>'\n",
              "            + ' to learn more about interactive tables.';\n",
              "          element.innerHTML = '';\n",
              "          dataTable['output_type'] = 'display_data';\n",
              "          await google.colab.output.renderOutput(dataTable, element);\n",
              "          const docLink = document.createElement('div');\n",
              "          docLink.innerHTML = docLinkHtml;\n",
              "          element.appendChild(docLink);\n",
              "        }\n",
              "      </script>\n",
              "    </div>\n",
              "  </div>\n",
              "  "
            ]
          },
          "metadata": {},
          "execution_count": 7
        }
      ],
      "source": [
        "data.head()"
      ]
    },
    {
      "cell_type": "code",
      "execution_count": null,
      "metadata": {
        "colab": {
          "base_uri": "https://localhost:8080/",
          "height": 444
        },
        "id": "vZgnAL6PUhse",
        "outputId": "9665ccdb-684b-4a2c-f920-75e9f2219ccb",
        "tags": []
      },
      "outputs": [
        {
          "output_type": "execute_result",
          "data": {
            "text/plain": [
              "  mhc_case_id      functionality                   test_case label_gold  \\\n",
              "0    french-1  derog_neg_emote_h      Je déteste les femmes.    hateful   \n",
              "1    french-2  derog_neg_emote_h       Je déteste les trans.    hateful   \n",
              "2    french-3  derog_neg_emote_h       Je déteste les homos.    hateful   \n",
              "3    french-4  derog_neg_emote_h      Je déteste les blacks.    hateful   \n",
              "4    french-5  derog_neg_emote_h  Je déteste les handicapés.    hateful   \n",
              "\n",
              "      target_ident  ref_case_id  ref_templ_id  templ_id  \\\n",
              "0            women          NaN           NaN         1   \n",
              "1     trans people          NaN           NaN         1   \n",
              "2       gay people          NaN           NaN         1   \n",
              "3     black people          NaN           NaN         1   \n",
              "4  disabled people          NaN           NaN         1   \n",
              "\n",
              "                  case_templ gender_male gender_female  \\\n",
              "0  Je déteste les [IDENT_P].         NaN           NaN   \n",
              "1  Je déteste les [IDENT_P].         NaN           NaN   \n",
              "2  Je déteste les [IDENT_P].         NaN           NaN   \n",
              "3  Je déteste les [IDENT_P].         NaN           NaN   \n",
              "4  Je déteste les [IDENT_P].         NaN           NaN   \n",
              "\n",
              "                     label_annotated label_annotated_maj  \\\n",
              "0  ['hateful', 'hateful', 'hateful']             hateful   \n",
              "1  ['hateful', 'hateful', 'hateful']             hateful   \n",
              "2  ['hateful', 'hateful', 'hateful']             hateful   \n",
              "3  ['hateful', 'hateful', 'hateful']             hateful   \n",
              "4  ['hateful', 'hateful', 'hateful']             hateful   \n",
              "\n",
              "   disagreement_in_case  disagreement_in_template  \n",
              "0                 False                     False  \n",
              "1                 False                     False  \n",
              "2                 False                     False  \n",
              "3                 False                     False  \n",
              "4                 False                     False  "
            ],
            "text/html": [
              "\n",
              "  <div id=\"df-e463673c-24fa-46cc-9a74-365325dc7a28\">\n",
              "    <div class=\"colab-df-container\">\n",
              "      <div>\n",
              "<style scoped>\n",
              "    .dataframe tbody tr th:only-of-type {\n",
              "        vertical-align: middle;\n",
              "    }\n",
              "\n",
              "    .dataframe tbody tr th {\n",
              "        vertical-align: top;\n",
              "    }\n",
              "\n",
              "    .dataframe thead th {\n",
              "        text-align: right;\n",
              "    }\n",
              "</style>\n",
              "<table border=\"1\" class=\"dataframe\">\n",
              "  <thead>\n",
              "    <tr style=\"text-align: right;\">\n",
              "      <th></th>\n",
              "      <th>mhc_case_id</th>\n",
              "      <th>functionality</th>\n",
              "      <th>test_case</th>\n",
              "      <th>label_gold</th>\n",
              "      <th>target_ident</th>\n",
              "      <th>ref_case_id</th>\n",
              "      <th>ref_templ_id</th>\n",
              "      <th>templ_id</th>\n",
              "      <th>case_templ</th>\n",
              "      <th>gender_male</th>\n",
              "      <th>gender_female</th>\n",
              "      <th>label_annotated</th>\n",
              "      <th>label_annotated_maj</th>\n",
              "      <th>disagreement_in_case</th>\n",
              "      <th>disagreement_in_template</th>\n",
              "    </tr>\n",
              "  </thead>\n",
              "  <tbody>\n",
              "    <tr>\n",
              "      <th>0</th>\n",
              "      <td>french-1</td>\n",
              "      <td>derog_neg_emote_h</td>\n",
              "      <td>Je déteste les femmes.</td>\n",
              "      <td>hateful</td>\n",
              "      <td>women</td>\n",
              "      <td>NaN</td>\n",
              "      <td>NaN</td>\n",
              "      <td>1</td>\n",
              "      <td>Je déteste les [IDENT_P].</td>\n",
              "      <td>NaN</td>\n",
              "      <td>NaN</td>\n",
              "      <td>['hateful', 'hateful', 'hateful']</td>\n",
              "      <td>hateful</td>\n",
              "      <td>False</td>\n",
              "      <td>False</td>\n",
              "    </tr>\n",
              "    <tr>\n",
              "      <th>1</th>\n",
              "      <td>french-2</td>\n",
              "      <td>derog_neg_emote_h</td>\n",
              "      <td>Je déteste les trans.</td>\n",
              "      <td>hateful</td>\n",
              "      <td>trans people</td>\n",
              "      <td>NaN</td>\n",
              "      <td>NaN</td>\n",
              "      <td>1</td>\n",
              "      <td>Je déteste les [IDENT_P].</td>\n",
              "      <td>NaN</td>\n",
              "      <td>NaN</td>\n",
              "      <td>['hateful', 'hateful', 'hateful']</td>\n",
              "      <td>hateful</td>\n",
              "      <td>False</td>\n",
              "      <td>False</td>\n",
              "    </tr>\n",
              "    <tr>\n",
              "      <th>2</th>\n",
              "      <td>french-3</td>\n",
              "      <td>derog_neg_emote_h</td>\n",
              "      <td>Je déteste les homos.</td>\n",
              "      <td>hateful</td>\n",
              "      <td>gay people</td>\n",
              "      <td>NaN</td>\n",
              "      <td>NaN</td>\n",
              "      <td>1</td>\n",
              "      <td>Je déteste les [IDENT_P].</td>\n",
              "      <td>NaN</td>\n",
              "      <td>NaN</td>\n",
              "      <td>['hateful', 'hateful', 'hateful']</td>\n",
              "      <td>hateful</td>\n",
              "      <td>False</td>\n",
              "      <td>False</td>\n",
              "    </tr>\n",
              "    <tr>\n",
              "      <th>3</th>\n",
              "      <td>french-4</td>\n",
              "      <td>derog_neg_emote_h</td>\n",
              "      <td>Je déteste les blacks.</td>\n",
              "      <td>hateful</td>\n",
              "      <td>black people</td>\n",
              "      <td>NaN</td>\n",
              "      <td>NaN</td>\n",
              "      <td>1</td>\n",
              "      <td>Je déteste les [IDENT_P].</td>\n",
              "      <td>NaN</td>\n",
              "      <td>NaN</td>\n",
              "      <td>['hateful', 'hateful', 'hateful']</td>\n",
              "      <td>hateful</td>\n",
              "      <td>False</td>\n",
              "      <td>False</td>\n",
              "    </tr>\n",
              "    <tr>\n",
              "      <th>4</th>\n",
              "      <td>french-5</td>\n",
              "      <td>derog_neg_emote_h</td>\n",
              "      <td>Je déteste les handicapés.</td>\n",
              "      <td>hateful</td>\n",
              "      <td>disabled people</td>\n",
              "      <td>NaN</td>\n",
              "      <td>NaN</td>\n",
              "      <td>1</td>\n",
              "      <td>Je déteste les [IDENT_P].</td>\n",
              "      <td>NaN</td>\n",
              "      <td>NaN</td>\n",
              "      <td>['hateful', 'hateful', 'hateful']</td>\n",
              "      <td>hateful</td>\n",
              "      <td>False</td>\n",
              "      <td>False</td>\n",
              "    </tr>\n",
              "  </tbody>\n",
              "</table>\n",
              "</div>\n",
              "      <button class=\"colab-df-convert\" onclick=\"convertToInteractive('df-e463673c-24fa-46cc-9a74-365325dc7a28')\"\n",
              "              title=\"Convert this dataframe to an interactive table.\"\n",
              "              style=\"display:none;\">\n",
              "        \n",
              "  <svg xmlns=\"http://www.w3.org/2000/svg\" height=\"24px\"viewBox=\"0 0 24 24\"\n",
              "       width=\"24px\">\n",
              "    <path d=\"M0 0h24v24H0V0z\" fill=\"none\"/>\n",
              "    <path d=\"M18.56 5.44l.94 2.06.94-2.06 2.06-.94-2.06-.94-.94-2.06-.94 2.06-2.06.94zm-11 1L8.5 8.5l.94-2.06 2.06-.94-2.06-.94L8.5 2.5l-.94 2.06-2.06.94zm10 10l.94 2.06.94-2.06 2.06-.94-2.06-.94-.94-2.06-.94 2.06-2.06.94z\"/><path d=\"M17.41 7.96l-1.37-1.37c-.4-.4-.92-.59-1.43-.59-.52 0-1.04.2-1.43.59L10.3 9.45l-7.72 7.72c-.78.78-.78 2.05 0 2.83L4 21.41c.39.39.9.59 1.41.59.51 0 1.02-.2 1.41-.59l7.78-7.78 2.81-2.81c.8-.78.8-2.07 0-2.86zM5.41 20L4 18.59l7.72-7.72 1.47 1.35L5.41 20z\"/>\n",
              "  </svg>\n",
              "      </button>\n",
              "      \n",
              "  <style>\n",
              "    .colab-df-container {\n",
              "      display:flex;\n",
              "      flex-wrap:wrap;\n",
              "      gap: 12px;\n",
              "    }\n",
              "\n",
              "    .colab-df-convert {\n",
              "      background-color: #E8F0FE;\n",
              "      border: none;\n",
              "      border-radius: 50%;\n",
              "      cursor: pointer;\n",
              "      display: none;\n",
              "      fill: #1967D2;\n",
              "      height: 32px;\n",
              "      padding: 0 0 0 0;\n",
              "      width: 32px;\n",
              "    }\n",
              "\n",
              "    .colab-df-convert:hover {\n",
              "      background-color: #E2EBFA;\n",
              "      box-shadow: 0px 1px 2px rgba(60, 64, 67, 0.3), 0px 1px 3px 1px rgba(60, 64, 67, 0.15);\n",
              "      fill: #174EA6;\n",
              "    }\n",
              "\n",
              "    [theme=dark] .colab-df-convert {\n",
              "      background-color: #3B4455;\n",
              "      fill: #D2E3FC;\n",
              "    }\n",
              "\n",
              "    [theme=dark] .colab-df-convert:hover {\n",
              "      background-color: #434B5C;\n",
              "      box-shadow: 0px 1px 3px 1px rgba(0, 0, 0, 0.15);\n",
              "      filter: drop-shadow(0px 1px 2px rgba(0, 0, 0, 0.3));\n",
              "      fill: #FFFFFF;\n",
              "    }\n",
              "  </style>\n",
              "\n",
              "      <script>\n",
              "        const buttonEl =\n",
              "          document.querySelector('#df-e463673c-24fa-46cc-9a74-365325dc7a28 button.colab-df-convert');\n",
              "        buttonEl.style.display =\n",
              "          google.colab.kernel.accessAllowed ? 'block' : 'none';\n",
              "\n",
              "        async function convertToInteractive(key) {\n",
              "          const element = document.querySelector('#df-e463673c-24fa-46cc-9a74-365325dc7a28');\n",
              "          const dataTable =\n",
              "            await google.colab.kernel.invokeFunction('convertToInteractive',\n",
              "                                                     [key], {});\n",
              "          if (!dataTable) return;\n",
              "\n",
              "          const docLinkHtml = 'Like what you see? Visit the ' +\n",
              "            '<a target=\"_blank\" href=https://colab.research.google.com/notebooks/data_table.ipynb>data table notebook</a>'\n",
              "            + ' to learn more about interactive tables.';\n",
              "          element.innerHTML = '';\n",
              "          dataTable['output_type'] = 'display_data';\n",
              "          await google.colab.output.renderOutput(dataTable, element);\n",
              "          const docLink = document.createElement('div');\n",
              "          docLink.innerHTML = docLinkHtml;\n",
              "          element.appendChild(docLink);\n",
              "        }\n",
              "      </script>\n",
              "    </div>\n",
              "  </div>\n",
              "  "
            ]
          },
          "metadata": {},
          "execution_count": 8
        }
      ],
      "source": [
        "hatecheck.head()"
      ]
    },
    {
      "cell_type": "markdown",
      "metadata": {
        "id": "Lg1ZpFNcU0BZ"
      },
      "source": [
        "La colonne `sentiment` du premier jeu de données indique si le Tweet est normal, offensif ou encore haineux."
      ]
    },
    {
      "cell_type": "code",
      "execution_count": null,
      "metadata": {
        "colab": {
          "base_uri": "https://localhost:8080/"
        },
        "id": "zoS4sIJvUzoi",
        "outputId": "eeec8771-6d4c-40d5-b58b-5da1b9df4fde",
        "tags": []
      },
      "outputs": [
        {
          "output_type": "execute_result",
          "data": {
            "text/plain": [
              "array(['abusive', 'offensive', 'hateful', 'normal',\n",
              "       'fearful_abusive_offensive_hateful_normal', 'abusive_offensive',\n",
              "       'offensive_hateful', 'disrespectful', 'offensive_disrespectful',\n",
              "       'fearful', 'fearful_abusive_hateful',\n",
              "       'fearful_abusive_offensive_normal',\n",
              "       'fearful_abusive_disrespectful_normal', 'abusive_normal',\n",
              "       'fearful_normal', 'offensive_normal', 'disrespectful_normal',\n",
              "       'abusive_offensive_hateful_normal', 'abusive_offensive_hateful',\n",
              "       'fearful_abusive_offensive_disrespectful_normal',\n",
              "       'abusive_disrespectful', 'offensive_hateful_disrespectful_normal',\n",
              "       'hateful_normal', 'abusive_offensive_hateful_disrespectful',\n",
              "       'abusive_offensive_disrespectful', 'fearful_disrespectful_normal',\n",
              "       'abusive_offensive_hateful_disrespectful_normal',\n",
              "       'fearful_abusive', 'abusive_disrespectful_normal',\n",
              "       'abusive_hateful', 'fearful_abusive_disrespectful_hateful_normal',\n",
              "       'abusive_offensive_disrespectful_normal',\n",
              "       'fearful_abusive_disrespectful',\n",
              "       'fearful_abusive_offensive_hateful', 'abusive_offensive_normal',\n",
              "       'offensive_disrespectful_normal', 'fearful_abusive_offensive',\n",
              "       'fearful_offensive', 'fearful_hateful',\n",
              "       'abusive_disrespectful_hateful_normal',\n",
              "       'hateful_disrespectful_normal',\n",
              "       'fearful_abusive_hateful_disrespectful_normal',\n",
              "       'fearful_hateful_normal',\n",
              "       'fearful_abusive_offensive_disrespectful',\n",
              "       'fearful_abusive_hateful_disrespectful',\n",
              "       'abusive_disrespectful_hateful', 'hateful_disrespectful',\n",
              "       'fearful_abusive_normal', 'fearful_disrespectful',\n",
              "       'fearful_offensive_hateful_normal',\n",
              "       'fearful_offensive_hateful_disrespectful_normal',\n",
              "       'fearful_hateful_disrespectful_normal', 'fearful_offensive_normal',\n",
              "       'fearful_abusive_hateful_normal', 'offensive_hateful_normal',\n",
              "       'fearful_hateful_disrespectful', 'offensive_hateful_disrespectful',\n",
              "       'abusive_hateful_disrespectful_normal',\n",
              "       'fearful_offensive_hateful',\n",
              "       'abusive_offensive_disrespectful_hateful_normal',\n",
              "       'fearful_offensive_disrespectful', 'abusive_hateful_normal',\n",
              "       'fearful_offensive_disrespectful_normal',\n",
              "       'fearful_offensive_disrespectful_hateful_normal',\n",
              "       'fearful_disrespectful_hateful_normal',\n",
              "       'fearful_abusive_offensive_hateful_disrespectful',\n",
              "       'fearful_offensive_hateful_disrespectful',\n",
              "       'abusive_hateful_disrespectful', 'disrespectful_hateful'],\n",
              "      dtype=object)"
            ]
          },
          "metadata": {},
          "execution_count": 9
        }
      ],
      "source": [
        "data[\"sentiment\"].unique()"
      ]
    },
    {
      "cell_type": "markdown",
      "metadata": {
        "id": "-6smvI36U4Bw"
      },
      "source": [
        "Il y a potentiellement des modalités qui se chevauchent : nous pourrions être amenés à en fusionner plusieurs entre-elles."
      ]
    },
    {
      "cell_type": "code",
      "execution_count": null,
      "metadata": {
        "colab": {
          "base_uri": "https://localhost:8080/"
        },
        "id": "aWDpDZqJU2os",
        "outputId": "248b9c93-5cc7-4822-cc8f-6ec86467e94b",
        "tags": []
      },
      "outputs": [
        {
          "output_type": "execute_result",
          "data": {
            "text/plain": [
              "array(['hateful', 'non-hateful'], dtype=object)"
            ]
          },
          "metadata": {},
          "execution_count": 10
        }
      ],
      "source": [
        "hatecheck[\"label_gold\"].unique()"
      ]
    },
    {
      "cell_type": "markdown",
      "metadata": {
        "id": "ZJ8z-_5FVZS2"
      },
      "source": [
        "Le deuxième jeu de données est quant à lui binaire sur le sentiment."
      ]
    },
    {
      "cell_type": "code",
      "execution_count": null,
      "metadata": {
        "colab": {
          "base_uri": "https://localhost:8080/"
        },
        "id": "ZbBAJfHcVYLD",
        "outputId": "e1b44edb-1dcc-46f4-a5ed-1a81b5e44625",
        "tags": []
      },
      "outputs": [
        {
          "output_type": "execute_result",
          "data": {
            "text/plain": [
              "array(['other', 'individual', 'women', 'african_descent', 'immigrants',\n",
              "       'arabs', 'indian/hindu', 'special_needs', 'left_wing_people',\n",
              "       'asians', 'jews', 'muslims', 'christian', 'hispanics', 'refugees',\n",
              "       'gay'], dtype=object)"
            ]
          },
          "metadata": {},
          "execution_count": 11
        }
      ],
      "source": [
        "data[\"group\"].unique()"
      ]
    },
    {
      "cell_type": "markdown",
      "metadata": {
        "id": "Kcg678bQVhhq"
      },
      "source": [
        "Ce qui est intéressant avec les deux jeux de données, c'est que nous avons également à disposition le groupe d'individus visé par le commentaire."
      ]
    },
    {
      "cell_type": "code",
      "execution_count": null,
      "metadata": {
        "colab": {
          "base_uri": "https://localhost:8080/"
        },
        "id": "IPkCOS7jVhCx",
        "outputId": "02769981-11ab-4774-92cb-11e957b33587",
        "tags": []
      },
      "outputs": [
        {
          "output_type": "execute_result",
          "data": {
            "text/plain": [
              "array(['women', 'trans people', 'gay people', 'black people',\n",
              "       'disabled people', 'Muslims', 'refugees', nan], dtype=object)"
            ]
          },
          "metadata": {},
          "execution_count": 12
        }
      ],
      "source": [
        "hatecheck[\"target_ident\"].unique()"
      ]
    },
    {
      "cell_type": "markdown",
      "metadata": {
        "id": "_J-ARQLdVrH_"
      },
      "source": [
        "Essayons de visualiser quelques lignes.\n",
        "\n",
        "### ➡️ À toi de jouer\n",
        "\n",
        "Afficher quelques lignes donc le sentiment est `fearful_normal` pour la dataset MLMA."
      ]
    },
    {
      "cell_type": "code",
      "execution_count": null,
      "metadata": {
        "colab": {
          "base_uri": "https://localhost:8080/",
          "height": 489
        },
        "id": "7RQ8xy8LVo1l",
        "outputId": "288a3743-cd25-4476-8d86-476d09a808cb"
      },
      "outputs": [
        {
          "output_type": "execute_result",
          "data": {
            "text/plain": [
              "                 group    target       sentiment\n",
              "66          immigrants    origin  fearful_normal\n",
              "178              other     other  fearful_normal\n",
              "386         individual     other  fearful_normal\n",
              "1003             other     other  fearful_normal\n",
              "1273             other     other  fearful_normal\n",
              "1577           muslims  religion  fearful_normal\n",
              "1711           muslims  religion  fearful_normal\n",
              "1975  left_wing_people     other  fearful_normal\n",
              "2361           muslims  religion  fearful_normal\n",
              "2492             other     other  fearful_normal\n",
              "3307             other     other  fearful_normal\n",
              "3398        immigrants    origin  fearful_normal\n",
              "3626             other     other  fearful_normal\n",
              "3864        individual     other  fearful_normal"
            ],
            "text/html": [
              "\n",
              "  <div id=\"df-75f6461c-6f79-473e-8ed9-6f4daba4f4cb\">\n",
              "    <div class=\"colab-df-container\">\n",
              "      <div>\n",
              "<style scoped>\n",
              "    .dataframe tbody tr th:only-of-type {\n",
              "        vertical-align: middle;\n",
              "    }\n",
              "\n",
              "    .dataframe tbody tr th {\n",
              "        vertical-align: top;\n",
              "    }\n",
              "\n",
              "    .dataframe thead th {\n",
              "        text-align: right;\n",
              "    }\n",
              "</style>\n",
              "<table border=\"1\" class=\"dataframe\">\n",
              "  <thead>\n",
              "    <tr style=\"text-align: right;\">\n",
              "      <th></th>\n",
              "      <th>group</th>\n",
              "      <th>target</th>\n",
              "      <th>sentiment</th>\n",
              "    </tr>\n",
              "  </thead>\n",
              "  <tbody>\n",
              "    <tr>\n",
              "      <th>66</th>\n",
              "      <td>immigrants</td>\n",
              "      <td>origin</td>\n",
              "      <td>fearful_normal</td>\n",
              "    </tr>\n",
              "    <tr>\n",
              "      <th>178</th>\n",
              "      <td>other</td>\n",
              "      <td>other</td>\n",
              "      <td>fearful_normal</td>\n",
              "    </tr>\n",
              "    <tr>\n",
              "      <th>386</th>\n",
              "      <td>individual</td>\n",
              "      <td>other</td>\n",
              "      <td>fearful_normal</td>\n",
              "    </tr>\n",
              "    <tr>\n",
              "      <th>1003</th>\n",
              "      <td>other</td>\n",
              "      <td>other</td>\n",
              "      <td>fearful_normal</td>\n",
              "    </tr>\n",
              "    <tr>\n",
              "      <th>1273</th>\n",
              "      <td>other</td>\n",
              "      <td>other</td>\n",
              "      <td>fearful_normal</td>\n",
              "    </tr>\n",
              "    <tr>\n",
              "      <th>1577</th>\n",
              "      <td>muslims</td>\n",
              "      <td>religion</td>\n",
              "      <td>fearful_normal</td>\n",
              "    </tr>\n",
              "    <tr>\n",
              "      <th>1711</th>\n",
              "      <td>muslims</td>\n",
              "      <td>religion</td>\n",
              "      <td>fearful_normal</td>\n",
              "    </tr>\n",
              "    <tr>\n",
              "      <th>1975</th>\n",
              "      <td>left_wing_people</td>\n",
              "      <td>other</td>\n",
              "      <td>fearful_normal</td>\n",
              "    </tr>\n",
              "    <tr>\n",
              "      <th>2361</th>\n",
              "      <td>muslims</td>\n",
              "      <td>religion</td>\n",
              "      <td>fearful_normal</td>\n",
              "    </tr>\n",
              "    <tr>\n",
              "      <th>2492</th>\n",
              "      <td>other</td>\n",
              "      <td>other</td>\n",
              "      <td>fearful_normal</td>\n",
              "    </tr>\n",
              "    <tr>\n",
              "      <th>3307</th>\n",
              "      <td>other</td>\n",
              "      <td>other</td>\n",
              "      <td>fearful_normal</td>\n",
              "    </tr>\n",
              "    <tr>\n",
              "      <th>3398</th>\n",
              "      <td>immigrants</td>\n",
              "      <td>origin</td>\n",
              "      <td>fearful_normal</td>\n",
              "    </tr>\n",
              "    <tr>\n",
              "      <th>3626</th>\n",
              "      <td>other</td>\n",
              "      <td>other</td>\n",
              "      <td>fearful_normal</td>\n",
              "    </tr>\n",
              "    <tr>\n",
              "      <th>3864</th>\n",
              "      <td>individual</td>\n",
              "      <td>other</td>\n",
              "      <td>fearful_normal</td>\n",
              "    </tr>\n",
              "  </tbody>\n",
              "</table>\n",
              "</div>\n",
              "      <button class=\"colab-df-convert\" onclick=\"convertToInteractive('df-75f6461c-6f79-473e-8ed9-6f4daba4f4cb')\"\n",
              "              title=\"Convert this dataframe to an interactive table.\"\n",
              "              style=\"display:none;\">\n",
              "        \n",
              "  <svg xmlns=\"http://www.w3.org/2000/svg\" height=\"24px\"viewBox=\"0 0 24 24\"\n",
              "       width=\"24px\">\n",
              "    <path d=\"M0 0h24v24H0V0z\" fill=\"none\"/>\n",
              "    <path d=\"M18.56 5.44l.94 2.06.94-2.06 2.06-.94-2.06-.94-.94-2.06-.94 2.06-2.06.94zm-11 1L8.5 8.5l.94-2.06 2.06-.94-2.06-.94L8.5 2.5l-.94 2.06-2.06.94zm10 10l.94 2.06.94-2.06 2.06-.94-2.06-.94-.94-2.06-.94 2.06-2.06.94z\"/><path d=\"M17.41 7.96l-1.37-1.37c-.4-.4-.92-.59-1.43-.59-.52 0-1.04.2-1.43.59L10.3 9.45l-7.72 7.72c-.78.78-.78 2.05 0 2.83L4 21.41c.39.39.9.59 1.41.59.51 0 1.02-.2 1.41-.59l7.78-7.78 2.81-2.81c.8-.78.8-2.07 0-2.86zM5.41 20L4 18.59l7.72-7.72 1.47 1.35L5.41 20z\"/>\n",
              "  </svg>\n",
              "      </button>\n",
              "      \n",
              "  <style>\n",
              "    .colab-df-container {\n",
              "      display:flex;\n",
              "      flex-wrap:wrap;\n",
              "      gap: 12px;\n",
              "    }\n",
              "\n",
              "    .colab-df-convert {\n",
              "      background-color: #E8F0FE;\n",
              "      border: none;\n",
              "      border-radius: 50%;\n",
              "      cursor: pointer;\n",
              "      display: none;\n",
              "      fill: #1967D2;\n",
              "      height: 32px;\n",
              "      padding: 0 0 0 0;\n",
              "      width: 32px;\n",
              "    }\n",
              "\n",
              "    .colab-df-convert:hover {\n",
              "      background-color: #E2EBFA;\n",
              "      box-shadow: 0px 1px 2px rgba(60, 64, 67, 0.3), 0px 1px 3px 1px rgba(60, 64, 67, 0.15);\n",
              "      fill: #174EA6;\n",
              "    }\n",
              "\n",
              "    [theme=dark] .colab-df-convert {\n",
              "      background-color: #3B4455;\n",
              "      fill: #D2E3FC;\n",
              "    }\n",
              "\n",
              "    [theme=dark] .colab-df-convert:hover {\n",
              "      background-color: #434B5C;\n",
              "      box-shadow: 0px 1px 3px 1px rgba(0, 0, 0, 0.15);\n",
              "      filter: drop-shadow(0px 1px 2px rgba(0, 0, 0, 0.3));\n",
              "      fill: #FFFFFF;\n",
              "    }\n",
              "  </style>\n",
              "\n",
              "      <script>\n",
              "        const buttonEl =\n",
              "          document.querySelector('#df-75f6461c-6f79-473e-8ed9-6f4daba4f4cb button.colab-df-convert');\n",
              "        buttonEl.style.display =\n",
              "          google.colab.kernel.accessAllowed ? 'block' : 'none';\n",
              "\n",
              "        async function convertToInteractive(key) {\n",
              "          const element = document.querySelector('#df-75f6461c-6f79-473e-8ed9-6f4daba4f4cb');\n",
              "          const dataTable =\n",
              "            await google.colab.kernel.invokeFunction('convertToInteractive',\n",
              "                                                     [key], {});\n",
              "          if (!dataTable) return;\n",
              "\n",
              "          const docLinkHtml = 'Like what you see? Visit the ' +\n",
              "            '<a target=\"_blank\" href=https://colab.research.google.com/notebooks/data_table.ipynb>data table notebook</a>'\n",
              "            + ' to learn more about interactive tables.';\n",
              "          element.innerHTML = '';\n",
              "          dataTable['output_type'] = 'display_data';\n",
              "          await google.colab.output.renderOutput(dataTable, element);\n",
              "          const docLink = document.createElement('div');\n",
              "          docLink.innerHTML = docLinkHtml;\n",
              "          element.appendChild(docLink);\n",
              "        }\n",
              "      </script>\n",
              "    </div>\n",
              "  </div>\n",
              "  "
            ]
          },
          "metadata": {},
          "execution_count": 14
        }
      ],
      "source": [
        "data.loc[(data[\"sentiment\"] == \"fearful_normal\")][[\"group\", \"target\", \"sentiment\"]]"
      ]
    },
    {
      "cell_type": "markdown",
      "metadata": {
        "id": "UcuzGO2218fs"
      },
      "source": [
        "### ➡️ À toi de jouer\n",
        "\n",
        "Afficher quelques lignes donc le sentiment est `normal` pour la dataset MLMA."
      ]
    },
    {
      "cell_type": "code",
      "execution_count": null,
      "metadata": {
        "colab": {
          "base_uri": "https://localhost:8080/",
          "height": 424
        },
        "id": "DOzHVW7VVtlY",
        "outputId": "1fc841d9-9fc1-4c99-800a-ca2f9edaeea6"
      },
      "outputs": [
        {
          "output_type": "execute_result",
          "data": {
            "text/plain": [
              "      HITId                                              tweet sentiment  \\\n",
              "3         4  @user @user c...est vrai que les anchois sont ...    normal   \n",
              "4         5            eh les renois faut se réveiller la @url    normal   \n",
              "6         7       @user sjw et féministe twitter un sale combo    normal   \n",
              "7         8  @user @user tu sais aussi pourquoi est au dess...    normal   \n",
              "11       12  @user dekoi tu parle jte dis ta ps honte de di...    normal   \n",
              "...     ...                                                ...       ...   \n",
              "3988   3989                  @user ne t'attarde pas là dessus!    normal   \n",
              "3992   3993  @user quand il n'est plus possible d'établir d...    normal   \n",
              "3998   3999  @user quand vous prendrez vos sources ailleurs...    normal   \n",
              "4001   4002  @user @user je suis actuellement en amerique j...    normal   \n",
              "4012   4013  @user pourquoi tant de migrants africains en e...    normal   \n",
              "\n",
              "     directness     annotator_sentiment  target            group  \n",
              "3      indirect            indifference   other            other  \n",
              "4        direct                 sadness  origin  african_descent  \n",
              "6      indirect    sadness_indifference   other            women  \n",
              "7      indirect            indifference   other            other  \n",
              "11       direct            indifference  origin     indian/hindu  \n",
              "...         ...                     ...     ...              ...  \n",
              "3988   indirect            indifference   other            other  \n",
              "3992   indirect            indifference   other            other  \n",
              "3998   indirect  confusion_indifference   other            other  \n",
              "4001   indirect            indifference   other            other  \n",
              "4012   indirect            indifference  origin       immigrants  \n",
              "\n",
              "[821 rows x 7 columns]"
            ],
            "text/html": [
              "\n",
              "  <div id=\"df-7ed81c88-3669-48cc-b9bb-a22a76b46388\">\n",
              "    <div class=\"colab-df-container\">\n",
              "      <div>\n",
              "<style scoped>\n",
              "    .dataframe tbody tr th:only-of-type {\n",
              "        vertical-align: middle;\n",
              "    }\n",
              "\n",
              "    .dataframe tbody tr th {\n",
              "        vertical-align: top;\n",
              "    }\n",
              "\n",
              "    .dataframe thead th {\n",
              "        text-align: right;\n",
              "    }\n",
              "</style>\n",
              "<table border=\"1\" class=\"dataframe\">\n",
              "  <thead>\n",
              "    <tr style=\"text-align: right;\">\n",
              "      <th></th>\n",
              "      <th>HITId</th>\n",
              "      <th>tweet</th>\n",
              "      <th>sentiment</th>\n",
              "      <th>directness</th>\n",
              "      <th>annotator_sentiment</th>\n",
              "      <th>target</th>\n",
              "      <th>group</th>\n",
              "    </tr>\n",
              "  </thead>\n",
              "  <tbody>\n",
              "    <tr>\n",
              "      <th>3</th>\n",
              "      <td>4</td>\n",
              "      <td>@user @user c...est vrai que les anchois sont ...</td>\n",
              "      <td>normal</td>\n",
              "      <td>indirect</td>\n",
              "      <td>indifference</td>\n",
              "      <td>other</td>\n",
              "      <td>other</td>\n",
              "    </tr>\n",
              "    <tr>\n",
              "      <th>4</th>\n",
              "      <td>5</td>\n",
              "      <td>eh les renois faut se réveiller la @url</td>\n",
              "      <td>normal</td>\n",
              "      <td>direct</td>\n",
              "      <td>sadness</td>\n",
              "      <td>origin</td>\n",
              "      <td>african_descent</td>\n",
              "    </tr>\n",
              "    <tr>\n",
              "      <th>6</th>\n",
              "      <td>7</td>\n",
              "      <td>@user sjw et féministe twitter un sale combo</td>\n",
              "      <td>normal</td>\n",
              "      <td>indirect</td>\n",
              "      <td>sadness_indifference</td>\n",
              "      <td>other</td>\n",
              "      <td>women</td>\n",
              "    </tr>\n",
              "    <tr>\n",
              "      <th>7</th>\n",
              "      <td>8</td>\n",
              "      <td>@user @user tu sais aussi pourquoi est au dess...</td>\n",
              "      <td>normal</td>\n",
              "      <td>indirect</td>\n",
              "      <td>indifference</td>\n",
              "      <td>other</td>\n",
              "      <td>other</td>\n",
              "    </tr>\n",
              "    <tr>\n",
              "      <th>11</th>\n",
              "      <td>12</td>\n",
              "      <td>@user dekoi tu parle jte dis ta ps honte de di...</td>\n",
              "      <td>normal</td>\n",
              "      <td>direct</td>\n",
              "      <td>indifference</td>\n",
              "      <td>origin</td>\n",
              "      <td>indian/hindu</td>\n",
              "    </tr>\n",
              "    <tr>\n",
              "      <th>...</th>\n",
              "      <td>...</td>\n",
              "      <td>...</td>\n",
              "      <td>...</td>\n",
              "      <td>...</td>\n",
              "      <td>...</td>\n",
              "      <td>...</td>\n",
              "      <td>...</td>\n",
              "    </tr>\n",
              "    <tr>\n",
              "      <th>3988</th>\n",
              "      <td>3989</td>\n",
              "      <td>@user ne t'attarde pas là dessus!</td>\n",
              "      <td>normal</td>\n",
              "      <td>indirect</td>\n",
              "      <td>indifference</td>\n",
              "      <td>other</td>\n",
              "      <td>other</td>\n",
              "    </tr>\n",
              "    <tr>\n",
              "      <th>3992</th>\n",
              "      <td>3993</td>\n",
              "      <td>@user quand il n'est plus possible d'établir d...</td>\n",
              "      <td>normal</td>\n",
              "      <td>indirect</td>\n",
              "      <td>indifference</td>\n",
              "      <td>other</td>\n",
              "      <td>other</td>\n",
              "    </tr>\n",
              "    <tr>\n",
              "      <th>3998</th>\n",
              "      <td>3999</td>\n",
              "      <td>@user quand vous prendrez vos sources ailleurs...</td>\n",
              "      <td>normal</td>\n",
              "      <td>indirect</td>\n",
              "      <td>confusion_indifference</td>\n",
              "      <td>other</td>\n",
              "      <td>other</td>\n",
              "    </tr>\n",
              "    <tr>\n",
              "      <th>4001</th>\n",
              "      <td>4002</td>\n",
              "      <td>@user @user je suis actuellement en amerique j...</td>\n",
              "      <td>normal</td>\n",
              "      <td>indirect</td>\n",
              "      <td>indifference</td>\n",
              "      <td>other</td>\n",
              "      <td>other</td>\n",
              "    </tr>\n",
              "    <tr>\n",
              "      <th>4012</th>\n",
              "      <td>4013</td>\n",
              "      <td>@user pourquoi tant de migrants africains en e...</td>\n",
              "      <td>normal</td>\n",
              "      <td>indirect</td>\n",
              "      <td>indifference</td>\n",
              "      <td>origin</td>\n",
              "      <td>immigrants</td>\n",
              "    </tr>\n",
              "  </tbody>\n",
              "</table>\n",
              "<p>821 rows × 7 columns</p>\n",
              "</div>\n",
              "      <button class=\"colab-df-convert\" onclick=\"convertToInteractive('df-7ed81c88-3669-48cc-b9bb-a22a76b46388')\"\n",
              "              title=\"Convert this dataframe to an interactive table.\"\n",
              "              style=\"display:none;\">\n",
              "        \n",
              "  <svg xmlns=\"http://www.w3.org/2000/svg\" height=\"24px\"viewBox=\"0 0 24 24\"\n",
              "       width=\"24px\">\n",
              "    <path d=\"M0 0h24v24H0V0z\" fill=\"none\"/>\n",
              "    <path d=\"M18.56 5.44l.94 2.06.94-2.06 2.06-.94-2.06-.94-.94-2.06-.94 2.06-2.06.94zm-11 1L8.5 8.5l.94-2.06 2.06-.94-2.06-.94L8.5 2.5l-.94 2.06-2.06.94zm10 10l.94 2.06.94-2.06 2.06-.94-2.06-.94-.94-2.06-.94 2.06-2.06.94z\"/><path d=\"M17.41 7.96l-1.37-1.37c-.4-.4-.92-.59-1.43-.59-.52 0-1.04.2-1.43.59L10.3 9.45l-7.72 7.72c-.78.78-.78 2.05 0 2.83L4 21.41c.39.39.9.59 1.41.59.51 0 1.02-.2 1.41-.59l7.78-7.78 2.81-2.81c.8-.78.8-2.07 0-2.86zM5.41 20L4 18.59l7.72-7.72 1.47 1.35L5.41 20z\"/>\n",
              "  </svg>\n",
              "      </button>\n",
              "      \n",
              "  <style>\n",
              "    .colab-df-container {\n",
              "      display:flex;\n",
              "      flex-wrap:wrap;\n",
              "      gap: 12px;\n",
              "    }\n",
              "\n",
              "    .colab-df-convert {\n",
              "      background-color: #E8F0FE;\n",
              "      border: none;\n",
              "      border-radius: 50%;\n",
              "      cursor: pointer;\n",
              "      display: none;\n",
              "      fill: #1967D2;\n",
              "      height: 32px;\n",
              "      padding: 0 0 0 0;\n",
              "      width: 32px;\n",
              "    }\n",
              "\n",
              "    .colab-df-convert:hover {\n",
              "      background-color: #E2EBFA;\n",
              "      box-shadow: 0px 1px 2px rgba(60, 64, 67, 0.3), 0px 1px 3px 1px rgba(60, 64, 67, 0.15);\n",
              "      fill: #174EA6;\n",
              "    }\n",
              "\n",
              "    [theme=dark] .colab-df-convert {\n",
              "      background-color: #3B4455;\n",
              "      fill: #D2E3FC;\n",
              "    }\n",
              "\n",
              "    [theme=dark] .colab-df-convert:hover {\n",
              "      background-color: #434B5C;\n",
              "      box-shadow: 0px 1px 3px 1px rgba(0, 0, 0, 0.15);\n",
              "      filter: drop-shadow(0px 1px 2px rgba(0, 0, 0, 0.3));\n",
              "      fill: #FFFFFF;\n",
              "    }\n",
              "  </style>\n",
              "\n",
              "      <script>\n",
              "        const buttonEl =\n",
              "          document.querySelector('#df-7ed81c88-3669-48cc-b9bb-a22a76b46388 button.colab-df-convert');\n",
              "        buttonEl.style.display =\n",
              "          google.colab.kernel.accessAllowed ? 'block' : 'none';\n",
              "\n",
              "        async function convertToInteractive(key) {\n",
              "          const element = document.querySelector('#df-7ed81c88-3669-48cc-b9bb-a22a76b46388');\n",
              "          const dataTable =\n",
              "            await google.colab.kernel.invokeFunction('convertToInteractive',\n",
              "                                                     [key], {});\n",
              "          if (!dataTable) return;\n",
              "\n",
              "          const docLinkHtml = 'Like what you see? Visit the ' +\n",
              "            '<a target=\"_blank\" href=https://colab.research.google.com/notebooks/data_table.ipynb>data table notebook</a>'\n",
              "            + ' to learn more about interactive tables.';\n",
              "          element.innerHTML = '';\n",
              "          dataTable['output_type'] = 'display_data';\n",
              "          await google.colab.output.renderOutput(dataTable, element);\n",
              "          const docLink = document.createElement('div');\n",
              "          docLink.innerHTML = docLinkHtml;\n",
              "          element.appendChild(docLink);\n",
              "        }\n",
              "      </script>\n",
              "    </div>\n",
              "  </div>\n",
              "  "
            ]
          },
          "metadata": {},
          "execution_count": 15
        }
      ],
      "source": [
        "\n",
        "\n",
        "data.loc[(data[\"sentiment\"] == \"normal\")]\n",
        "\n"
      ]
    },
    {
      "cell_type": "markdown",
      "metadata": {
        "id": "ymCGG0MPVxkS"
      },
      "source": [
        "Ce qui est important pour ce POC, c'est de **différencier ce qui relève de la plaisanterie dans un groupe d'amis d'un harcèlement haineux**. Pour cela, la **notion de contexte sera donc très importante**.\n",
        "\n",
        "Dans ces deux exemples précédents, nous allons considérer les sentiments `normal` et `fearful_normal` comme `non-hateful`, de sorte à harmoniser les labels entre les deux jeux de données.\n",
        "\n",
        "### ➡️ À toi de jouer\n",
        "\n",
        "Sur la dataset MLMA, transformer tous les sentiments `normal` et `fearful_normal` en `non-hateful`."
      ]
    },
    {
      "cell_type": "code",
      "execution_count": null,
      "metadata": {
        "colab": {
          "base_uri": "https://localhost:8080/"
        },
        "id": "GuoyF88aVvtb",
        "outputId": "ea667eaa-8d5f-44f9-81c6-fadb568ad90d"
      },
      "outputs": [
        {
          "output_type": "stream",
          "name": "stderr",
          "text": [
            "<ipython-input-16-3e192c3e6f0f>:1: SettingWithCopyWarning: \n",
            "A value is trying to be set on a copy of a slice from a DataFrame\n",
            "\n",
            "See the caveats in the documentation: https://pandas.pydata.org/pandas-docs/stable/user_guide/indexing.html#returning-a-view-versus-a-copy\n",
            "  data[\"sentiment\"].loc[(data[\"sentiment\"] == \"normal\")] = \"non-hateful\"\n",
            "<ipython-input-16-3e192c3e6f0f>:2: SettingWithCopyWarning: \n",
            "A value is trying to be set on a copy of a slice from a DataFrame\n",
            "\n",
            "See the caveats in the documentation: https://pandas.pydata.org/pandas-docs/stable/user_guide/indexing.html#returning-a-view-versus-a-copy\n",
            "  data[\"sentiment\"].loc[(data[\"sentiment\"] == \"fearful_normal\")] = \"non-hateful\"\n"
          ]
        }
      ],
      "source": [
        "data[\"sentiment\"].loc[(data[\"sentiment\"] == \"normal\")] = \"non-hateful\"\n",
        "data[\"sentiment\"].loc[(data[\"sentiment\"] == \"fearful_normal\")] = \"non-hateful\""
      ]
    },
    {
      "cell_type": "markdown",
      "metadata": {
        "id": "whjOM4PH18fs"
      },
      "source": [
        "Maintenant, nous allons **concaténer tous les datasets en un seul**."
      ]
    },
    {
      "cell_type": "code",
      "execution_count": null,
      "metadata": {
        "id": "ByDBz96eWDty"
      },
      "outputs": [],
      "source": [
        "from sklearn.utils import shuffle\n",
        "\n",
        "# df représente notre DataFrame final du traitement de données\n",
        "df1 = pd.DataFrame()\n",
        "df1[\"Text\"] = data[\"tweet\"]\n",
        "df1[\"Group\"] = data[\"group\"]\n",
        "df1[\"Type\"] = data[\"sentiment\"]\n",
        "\n",
        "df2 = pd.DataFrame()\n",
        "df2[\"Text\"] = hatecheck[\"test_case\"]\n",
        "df2[\"Group\"] = hatecheck[\"target_ident\"]\n",
        "df2[\"Type\"] = hatecheck[\"label_gold\"]\n",
        "\n",
        "# On ajoute des Tweets random non offensants\n",
        "df3 = pd.DataFrame()\n",
        "n_tweets = 10000\n",
        "df3[\"Text\"] = tweets.sample(n=n_tweets)[\"text\"]\n",
        "df3[\"Group\"] = \"other\"\n",
        "df3[\"Type\"] = \"non-hateful\"\n",
        "\n",
        "df = pd.concat([df1, df2, df3], axis=0)\n",
        "df = shuffle(df)"
      ]
    },
    {
      "cell_type": "markdown",
      "metadata": {
        "id": "j49I23aFY-zH"
      },
      "source": [
        "Dans notre cas, nous allons rester sur de la classification binaire.\n",
        "\n",
        "### ➡️ À toi de jouer\n",
        "\n",
        "Dans le dataset `df`, remplacer tous les types **différents de `non-hateful`** par `hateful`."
      ]
    },
    {
      "cell_type": "code",
      "execution_count": null,
      "metadata": {
        "colab": {
          "base_uri": "https://localhost:8080/"
        },
        "id": "QK6GuZi1Ywff",
        "outputId": "5598b666-2c90-4a3b-a308-12d46f9f07bb"
      },
      "outputs": [
        {
          "output_type": "execute_result",
          "data": {
            "text/plain": [
              "array(['non-hateful', 'hateful'], dtype=object)"
            ]
          },
          "metadata": {},
          "execution_count": 19
        }
      ],
      "source": [
        "\n",
        "\n",
        "df[\"Type\"].loc[(df[\"Type\"] != \"non-hateful\")] = \"hateful\"\n",
        "df.head()\n",
        "df[\"Type\"].unique()\n",
        "\n"
      ]
    },
    {
      "cell_type": "markdown",
      "metadata": {
        "id": "qaEuR175ZEzT"
      },
      "source": [
        "Vérifions bien que nous n'ayons que deux classes."
      ]
    },
    {
      "cell_type": "code",
      "execution_count": null,
      "metadata": {
        "colab": {
          "base_uri": "https://localhost:8080/"
        },
        "id": "rdfbbgg9ZEH8",
        "outputId": "ec83c16d-8be8-481f-d95a-f6a9f88fa18f"
      },
      "outputs": [
        {
          "output_type": "execute_result",
          "data": {
            "text/plain": [
              "array(['non-hateful', 'hateful'], dtype=object)"
            ]
          },
          "metadata": {},
          "execution_count": 20
        }
      ],
      "source": [
        "df[\"Type\"].unique()"
      ]
    },
    {
      "cell_type": "markdown",
      "metadata": {
        "id": "YUuEECjRZKHA"
      },
      "source": [
        "Vérifions également les groupes d'individus."
      ]
    },
    {
      "cell_type": "code",
      "execution_count": null,
      "metadata": {
        "colab": {
          "base_uri": "https://localhost:8080/"
        },
        "id": "jVYmUkEwZHdp",
        "outputId": "864d3db9-04b1-4917-c974-2fe5bb392288"
      },
      "outputs": [
        {
          "output_type": "execute_result",
          "data": {
            "text/plain": [
              "array(['other', 'women', 'immigrants', 'Muslims', 'gay people', nan,\n",
              "       'black people', 'left_wing_people', 'refugees', 'arabs',\n",
              "       'individual', 'african_descent', 'disabled people', 'muslims',\n",
              "       'indian/hindu', 'trans people', 'christian', 'special_needs',\n",
              "       'jews', 'asians', 'hispanics', 'gay'], dtype=object)"
            ]
          },
          "metadata": {},
          "execution_count": 21
        }
      ],
      "source": [
        "df[\"Group\"].unique()"
      ]
    },
    {
      "cell_type": "markdown",
      "metadata": {
        "id": "WjHCcRMgZNZ-"
      },
      "source": [
        "Là-aussi pour simplifier l'entraînement du modèle, nous allons fusionner certains groupes."
      ]
    },
    {
      "cell_type": "code",
      "execution_count": null,
      "metadata": {
        "id": "8EWs8LtaZMFt"
      },
      "outputs": [],
      "source": [
        "df[\"Group\"].loc[(df[\"Group\"] == \"gay people\")] = \"gay\"\n",
        "df[\"Group\"].loc[(df[\"Group\"] == \"trans people\")] = \"gay\"\n",
        "df[\"Group\"].loc[(df[\"Group\"] == \"black people\")] = \"african_descent\"\n",
        "df[\"Group\"].loc[(df[\"Group\"] == \"Muslims\")] = \"muslims\"\n",
        "df[\"Group\"].loc[(df[\"Group\"] == \"disabled people\")] = \"special_needs\"\n",
        "df[\"Group\"].loc[(df[\"Group\"] == \"refugees\")] = \"immigrants\"\n",
        "df[\"Group\"].loc[(df[\"Group\"] == \"individual\")] = \"other\""
      ]
    },
    {
      "cell_type": "markdown",
      "metadata": {
        "id": "VU895MoGZWLN"
      },
      "source": [
        "Regardons à nouveau les groupes uniques."
      ]
    },
    {
      "cell_type": "code",
      "execution_count": null,
      "metadata": {
        "colab": {
          "base_uri": "https://localhost:8080/"
        },
        "id": "2zj3Doj8ZUoZ",
        "outputId": "83980ab8-e62b-47a4-a6ce-3ab96d6889a0"
      },
      "outputs": [
        {
          "output_type": "execute_result",
          "data": {
            "text/plain": [
              "array(['other', 'women', 'immigrants', 'muslims', 'gay', nan,\n",
              "       'african_descent', 'left_wing_people', 'arabs', 'special_needs',\n",
              "       'indian/hindu', 'christian', 'jews', 'asians', 'hispanics'],\n",
              "      dtype=object)"
            ]
          },
          "metadata": {},
          "execution_count": 23
        }
      ],
      "source": [
        "df[\"Group\"].unique()"
      ]
    },
    {
      "cell_type": "code",
      "execution_count": null,
      "metadata": {
        "colab": {
          "base_uri": "https://localhost:8080/",
          "height": 285
        },
        "id": "-qjVpkpoZYLg",
        "outputId": "4e31e04e-2443-4391-8c23-2274a697227b"
      },
      "outputs": [
        {
          "output_type": "display_data",
          "data": {
            "text/plain": [
              "<Figure size 432x288 with 1 Axes>"
            ],
            "image/png": "[encoded data removed]"
          },
          "metadata": {}
        }
      ],
      "source": [
        "sns.countplot(x=df[\"Type\"])\n",
        "plt.show()"
      ]
    },
    {
      "cell_type": "markdown",
      "metadata": {
        "id": "wDxQOEFEZjUo"
      },
      "source": [
        "Visuellement, nous avons une sur-représentation de commentaires haineux : il faudrait potentiellement enrichir le jeu de données avec des commentaires non haineux.\n",
        "\n",
        "### ➡️ À toi de jouer\n",
        "\n",
        "Afficher le nombre de lignes de données pour chaque communauté/groupe d'individus."
      ]
    },
    {
      "cell_type": "code",
      "execution_count": null,
      "metadata": {
        "colab": {
          "base_uri": "https://localhost:8080/",
          "height": 302
        },
        "id": "v1cIWGX8ZapA",
        "outputId": "a56c2794-45e8-4810-f5d5-fea9f9a7d8b3"
      },
      "outputs": [
        {
          "output_type": "execute_result",
          "data": {
            "text/plain": [
              "<Axes: xlabel='count', ylabel='Group'>"
            ]
          },
          "metadata": {},
          "execution_count": 40
        },
        {
          "output_type": "display_data",
          "data": {
            "text/plain": [
              "<Figure size 432x288 with 1 Axes>"
            ],
            "image/png": "[encoded data removed]"
          },
          "metadata": {}
        }
      ],
      "source": [
        "len(df[\"Group\"])\n",
        "sns.countplot(data=df, y=\"Group\")"
      ]
    },
    {
      "cell_type": "markdown",
      "metadata": {
        "id": "XnFBnF8LZslz"
      },
      "source": [
        "Concernant les groupes d'individus, la plupart sont plutôt équilibrés, même si les 4 derniers groupes semblent être moins représentés.\n",
        "\n",
        "### ➡️ À toi de jouer\n",
        "\n",
        "Afficher le nombre de lignes de données `hateful` et `non-hateful` pour chaque communauté/groupe d'individus."
      ]
    },
    {
      "cell_type": "code",
      "execution_count": null,
      "metadata": {
        "colab": {
          "base_uri": "https://localhost:8080/",
          "height": 302
        },
        "id": "Ko2shHKrZr1u",
        "outputId": "f6be5003-1f7d-42fb-a181-c6c35bb2d14d"
      },
      "outputs": [
        {
          "output_type": "execute_result",
          "data": {
            "text/plain": [
              "<Axes: xlabel='count', ylabel='Group'>"
            ]
          },
          "metadata": {},
          "execution_count": 35
        },
        {
          "output_type": "display_data",
          "data": {
            "text/plain": [
              "<Figure size 432x288 with 1 Axes>"
            ],
            "image/png": "[encoded data removed]"
          },
          "metadata": {}
        }
      ],
      "source": [
        "sns.countplot(data=df, y=\"Group\", hue=\"Type\")"
      ]
    }
  ],
  "metadata": {
    "accelerator": "GPU",
    "colab": {
      "provenance": []
    },
    "gpuClass": "standard",
    "kernelspec": {
      "display_name": "conda_tensorflow2_p310",
      "language": "python",
      "name": "conda_tensorflow2_p310"
    },
    "language_info": {
      "codemirror_mode": {
        "name": "ipython",
        "version": 3
      },
      "file_extension": ".py",
      "mimetype": "text/x-python",
      "name": "python",
      "nbconvert_exporter": "python",
      "pygments_lexer": "ipython3",
      "version": "3.10.8"
    }
  },
  "nbformat": 4,
  "nbformat_minor": 0
}