{
 "cells": [
  {
   "cell_type": "markdown",
   "metadata": {
    "id": "pH5D9JLmTVnB"
   },
   "source": [
    "# Installation des dépendances\n",
    "\n",
    "Pour pouvoir exécuter ce Notebook, l'environnement de développement doit être bien configuré.\n",
    "\n",
    "<div class=\"alert alert-info\">\n",
    "    Pour ce Notebook, on pourra choisir le kernel <code>conda_tensorflow2_p310</code> sur SageMaker.\n",
    "</div>"
   ]
  },
  {
   "cell_type": "code",
   "execution_count": null,
   "metadata": {
    "colab": {
     "base_uri": "https://localhost:8080/"
    },
    "id": "SbSj5jFGS1RA",
    "outputId": "bef6f2aa-94dc-45f2-a7d4-378bf95d5014",
    "tags": []
   },
   "outputs": [],
   "source": [
    "!pip install spacy transformers datasets sentencepiece seaborn pandas -q"
   ]
  },
  {
   "cell_type": "markdown",
   "metadata": {
    "id": "7TPKXiSZTfIO"
   },
   "source": [
    "De même, nous allons utiliser un jeu de données supplémentaire de HuggingFace pour enrichir notre base."
   ]
  },
  {
   "cell_type": "code",
   "execution_count": null,
   "metadata": {
    "colab": {
     "base_uri": "https://localhost:8080/"
    },
    "id": "LwmiIuaATdl6",
    "outputId": "76b40e04-e345-4f8f-973e-f6c16e3a90da",
    "tags": []
   },
   "outputs": [],
   "source": [
    "!git lfs install\n",
    "!git clone https://huggingface.co/datasets/Paul/hatecheck-french"
   ]
  },
  {
   "cell_type": "markdown",
   "metadata": {
    "id": "7U4s8s14Ty8A"
   },
   "source": [
    "Enfin, spaCy nous permettra de faire des opérations de traitement du texte adapté à la langue française."
   ]
  },
  {
   "cell_type": "code",
   "execution_count": null,
   "metadata": {
    "colab": {
     "base_uri": "https://localhost:8080/"
    },
    "id": "7Ywi2oekTv7l",
    "outputId": "165c2c38-456e-430a-de36-8d58d59159c7",
    "tags": []
   },
   "outputs": [],
   "source": [
    "!python -m spacy download fr_core_news_sm"
   ]
  },
  {
   "cell_type": "markdown",
   "metadata": {
    "id": "KcokZH0eUGdK"
   },
   "source": [
    "# Analyse exploratoire des données\n",
    "\n",
    "Pour cette analyse exploiratoire, le dataset `mlma.csv` doit être présent dans l'environnement de développement, situé dans le même dossier que ce Notebook."
   ]
  },
  {
   "cell_type": "code",
   "execution_count": null,
   "metadata": {
    "tags": []
   },
   "outputs": [],
   "source": [
    "!mkdir -p data/\n",
    "!wget -q https://blent-keskia.s3.eu-west-3.amazonaws.com/poc/cyberharcelement/french_tweets.csv.zip -O data/french_tweets.csv.zip\n",
    "!wget -q https://blent-keskia.s3.eu-west-3.amazonaws.com/poc/cyberharcelement/mlma.csv -O data/mlma.csv\n",
    "!unzip -o data/french_tweets.csv.zip -d data"
   ]
  },
  {
   "cell_type": "code",
   "execution_count": null,
   "metadata": {
    "id": "SWXZFVCfT3zX",
    "tags": []
   },
   "outputs": [],
   "source": [
    "import os\n",
    "import seaborn as sns\n",
    "import pandas as pd\n",
    "import numpy as np\n",
    "import matplotlib.pyplot as plt\n",
    "\n",
    "sns.set()\n",
    "\n",
    "data = pd.read_csv(\"data/mlma.csv\")\n",
    "tweets = pd.read_csv(\"data/french_tweets.csv\")"
   ]
  },
  {
   "cell_type": "markdown",
   "metadata": {
    "id": "zd2PLuY8UVLV"
   },
   "source": [
    "De même, nous chargeons le jeu de données HateCheck téléchargé depuis HuggingFace."
   ]
  },
  {
   "cell_type": "code",
   "execution_count": null,
   "metadata": {
    "id": "nAysGsT2US0e",
    "tags": []
   },
   "outputs": [],
   "source": [
    "hatecheck = pd.read_csv(\"hatecheck-french/test.csv\")"
   ]
  },
  {
   "cell_type": "markdown",
   "metadata": {
    "id": "OlHJ-O9OUfjQ"
   },
   "source": [
    "Regardons à quoi ressemblent les deux jeux de données."
   ]
  },
  {
   "cell_type": "code",
   "execution_count": null,
   "metadata": {
    "colab": {
     "base_uri": "https://localhost:8080/",
     "height": 206
    },
    "id": "08Z0d4A5Ubeh",
    "outputId": "67d13aad-6ac6-44e4-9ee6-f668b048f81d",
    "tags": []
   },
   "outputs": [],
   "source": [
    "data.head()"
   ]
  },
  {
   "cell_type": "code",
   "execution_count": null,
   "metadata": {
    "colab": {
     "base_uri": "https://localhost:8080/",
     "height": 250
    },
    "id": "vZgnAL6PUhse",
    "outputId": "268e3c67-2c2e-4f36-c0d8-6d7ce63bfd46",
    "tags": []
   },
   "outputs": [],
   "source": [
    "hatecheck.head()"
   ]
  },
  {
   "cell_type": "markdown",
   "metadata": {
    "id": "Lg1ZpFNcU0BZ"
   },
   "source": [
    "La colonne `sentiment` du premier jeu de données indique si le Tweet est normal, offensif ou encore haineux."
   ]
  },
  {
   "cell_type": "code",
   "execution_count": null,
   "metadata": {
    "colab": {
     "base_uri": "https://localhost:8080/"
    },
    "id": "zoS4sIJvUzoi",
    "outputId": "71822df3-ec36-4b50-8922-7a1b04f7d206",
    "tags": []
   },
   "outputs": [],
   "source": [
    "data[\"sentiment\"].unique()"
   ]
  },
  {
   "cell_type": "markdown",
   "metadata": {
    "id": "-6smvI36U4Bw"
   },
   "source": [
    "Il y a potentiellement des modalités qui se chevauchent : nous pourrions être amenés à en fusionner plusieurs entre-elles."
   ]
  },
  {
   "cell_type": "code",
   "execution_count": null,
   "metadata": {
    "colab": {
     "base_uri": "https://localhost:8080/"
    },
    "id": "aWDpDZqJU2os",
    "outputId": "1e10f5fc-c6e2-443b-e498-77c2fc3ee867",
    "tags": []
   },
   "outputs": [],
   "source": [
    "hatecheck[\"label_gold\"].unique()"
   ]
  },
  {
   "cell_type": "markdown",
   "metadata": {
    "id": "ZJ8z-_5FVZS2"
   },
   "source": [
    "Le deuxième jeu de données est quant à lui binaire sur le sentiment."
   ]
  },
  {
   "cell_type": "code",
   "execution_count": null,
   "metadata": {
    "colab": {
     "base_uri": "https://localhost:8080/"
    },
    "id": "ZbBAJfHcVYLD",
    "outputId": "e6345477-1831-4dca-dadd-c43f3c0fa1e9",
    "tags": []
   },
   "outputs": [],
   "source": [
    "data[\"group\"].unique()"
   ]
  },
  {
   "cell_type": "markdown",
   "metadata": {
    "id": "Kcg678bQVhhq"
   },
   "source": [
    "Ce qui est intéressant avec les deux jeux de données, c'est que nous avons également à disposition le groupe d'individus visé par le commentaire."
   ]
  },
  {
   "cell_type": "code",
   "execution_count": null,
   "metadata": {
    "colab": {
     "base_uri": "https://localhost:8080/"
    },
    "id": "IPkCOS7jVhCx",
    "outputId": "25f4bda2-79e4-40c5-de07-0970264d391c",
    "tags": []
   },
   "outputs": [],
   "source": [
    "hatecheck[\"target_ident\"].unique()"
   ]
  },
  {
   "cell_type": "markdown",
   "metadata": {
    "id": "_J-ARQLdVrH_"
   },
   "source": [
    "Essayons de visualiser quelques lignes.\n",
    "\n",
    "### ➡️ À toi de jouer\n",
    "\n",
    "Afficher quelques lignes donc le sentiment est `fearful_normal` pour la dataset MLMA."
   ]
  },
  {
   "cell_type": "code",
   "execution_count": null,
   "metadata": {
    "colab": {
     "base_uri": "https://localhost:8080/",
     "height": 488
    },
    "id": "7RQ8xy8LVo1l",
    "outputId": "3e3cc1fd-e031-48a5-a2a1-eb30e90e57d5"
   },
   "outputs": [],
   "source": [
    "# TODO\n"
   ]
  },
  {
   "cell_type": "markdown",
   "metadata": {},
   "source": [
    "### ➡️ À toi de jouer\n",
    "\n",
    "Afficher quelques lignes donc le sentiment est `normal` pour la dataset MLMA."
   ]
  },
  {
   "cell_type": "code",
   "execution_count": null,
   "metadata": {
    "colab": {
     "base_uri": "https://localhost:8080/",
     "height": 424
    },
    "id": "DOzHVW7VVtlY",
    "outputId": "ddfff3a2-8598-48f5-f0d3-360298ffba49"
   },
   "outputs": [],
   "source": [
    "# TODO\n",
    "# ..."
   ]
  },
  {
   "cell_type": "markdown",
   "metadata": {
    "id": "ymCGG0MPVxkS"
   },
   "source": [
    "Ce qui est important pour ce POC, c'est de **différencier ce qui relève de la plaisanterie dans un groupe d'amis d'un harcèlement haineux**. Pour cela, la **notion de contexte sera donc très importante**.\n",
    "\n",
    "Dans ces deux exemples précédents, nous allons considérer les sentiments `normal` et `fearful_normal` comme `non-hateful`, de sorte à harmoniser les labels entre les deux jeux de données.\n",
    "\n",
    "### ➡️ À toi de jouer\n",
    "\n",
    "Sur la dataset MLMA, transformer tous les sentiments `normal` et `fearful_normal` en `non-hateful`."
   ]
  },
  {
   "cell_type": "code",
   "execution_count": null,
   "metadata": {
    "colab": {
     "base_uri": "https://localhost:8080/"
    },
    "id": "GuoyF88aVvtb",
    "outputId": "e419a272-e760-4126-cd58-7f5702808ed8"
   },
   "outputs": [],
   "source": [
    "# TODO\n",
    "# ..."
   ]
  },
  {
   "cell_type": "markdown",
   "metadata": {},
   "source": [
    "Maintenant, nous allons **concaténer tous les datasets en un seul**."
   ]
  },
  {
   "cell_type": "code",
   "execution_count": null,
   "metadata": {
    "id": "ByDBz96eWDty"
   },
   "outputs": [],
   "source": [
    "from sklearn.utils import shuffle\n",
    "\n",
    "# df représente notre DataFrame final du traitement de données\n",
    "df1 = pd.DataFrame()\n",
    "df1[\"Text\"] = data[\"tweet\"]\n",
    "df1[\"Group\"] = data[\"group\"]\n",
    "df1[\"Type\"] = data[\"sentiment\"]\n",
    "\n",
    "df2 = pd.DataFrame()\n",
    "df2[\"Text\"] = hatecheck[\"test_case\"]\n",
    "df2[\"Group\"] = hatecheck[\"target_ident\"]\n",
    "df2[\"Type\"] = hatecheck[\"label_gold\"]\n",
    "\n",
    "# On ajoute des Tweets random non offensants\n",
    "df3 = pd.DataFrame()\n",
    "n_tweets = 10000\n",
    "df3[\"Text\"] = tweets.sample(n=n_tweets)[\"text\"]\n",
    "df3[\"Group\"] = \"other\"\n",
    "df3[\"Type\"] = \"non-hateful\"\n",
    "\n",
    "df = pd.concat([df1, df2, df3], axis=0)\n",
    "df = shuffle(df)"
   ]
  },
  {
   "cell_type": "markdown",
   "metadata": {
    "id": "j49I23aFY-zH"
   },
   "source": [
    "Dans notre cas, nous allons rester sur de la classification binaire.\n",
    "\n",
    "### ➡️ À toi de jouer\n",
    "\n",
    "Dans le dataset `df`, remplacer tous les types **différents de `non-hateful`** par `hateful`."
   ]
  },
  {
   "cell_type": "code",
   "execution_count": null,
   "metadata": {
    "colab": {
     "base_uri": "https://localhost:8080/",
     "height": 424
    },
    "id": "QK6GuZi1Ywff",
    "outputId": "75ae249e-186d-4959-990f-ad53d0b5de17"
   },
   "outputs": [],
   "source": [
    "# TODO\n",
    "# ...\n",
    "df"
   ]
  },
  {
   "cell_type": "markdown",
   "metadata": {
    "id": "qaEuR175ZEzT"
   },
   "source": [
    "Vérifions bien que nous n'ayons que deux classes."
   ]
  },
  {
   "cell_type": "code",
   "execution_count": null,
   "metadata": {
    "colab": {
     "base_uri": "https://localhost:8080/"
    },
    "id": "rdfbbgg9ZEH8",
    "outputId": "7a2e2be0-14c8-47ce-8df0-3d8c5b33720e"
   },
   "outputs": [],
   "source": [
    "df[\"Type\"].unique()"
   ]
  },
  {
   "cell_type": "markdown",
   "metadata": {
    "id": "YUuEECjRZKHA"
   },
   "source": [
    "Vérifions également les groupes d'individus."
   ]
  },
  {
   "cell_type": "code",
   "execution_count": null,
   "metadata": {
    "colab": {
     "base_uri": "https://localhost:8080/"
    },
    "id": "jVYmUkEwZHdp",
    "outputId": "63141e38-0418-404f-9e7e-6f87e4a8d664"
   },
   "outputs": [],
   "source": [
    "df[\"Group\"].unique()"
   ]
  },
  {
   "cell_type": "markdown",
   "metadata": {
    "id": "WjHCcRMgZNZ-"
   },
   "source": [
    "Là-aussi pour simplifier l'entraînement du modèle, nous allons fusionner certains groupes."
   ]
  },
  {
   "cell_type": "code",
   "execution_count": null,
   "metadata": {
    "id": "8EWs8LtaZMFt"
   },
   "outputs": [],
   "source": [
    "df[\"Group\"].loc[(df[\"Group\"] == \"gay people\")] = \"gay\"\n",
    "df[\"Group\"].loc[(df[\"Group\"] == \"trans people\")] = \"gay\"\n",
    "df[\"Group\"].loc[(df[\"Group\"] == \"black people\")] = \"african_descent\"\n",
    "df[\"Group\"].loc[(df[\"Group\"] == \"Muslims\")] = \"muslims\"\n",
    "df[\"Group\"].loc[(df[\"Group\"] == \"disabled people\")] = \"special_needs\"\n",
    "df[\"Group\"].loc[(df[\"Group\"] == \"refugees\")] = \"immigrants\"\n",
    "df[\"Group\"].loc[(df[\"Group\"] == \"individual\")] = \"other\""
   ]
  },
  {
   "cell_type": "markdown",
   "metadata": {
    "id": "VU895MoGZWLN"
   },
   "source": [
    "Regardons à nouveau les groupes uniques."
   ]
  },
  {
   "cell_type": "code",
   "execution_count": null,
   "metadata": {
    "colab": {
     "base_uri": "https://localhost:8080/"
    },
    "id": "2zj3Doj8ZUoZ",
    "outputId": "dc03545a-ff9d-494f-b4cd-cdf3111706ad"
   },
   "outputs": [],
   "source": [
    "df[\"Group\"].unique()"
   ]
  },
  {
   "cell_type": "code",
   "execution_count": null,
   "metadata": {
    "colab": {
     "base_uri": "https://localhost:8080/",
     "height": 283
    },
    "id": "-qjVpkpoZYLg",
    "outputId": "52ac55c5-487b-43cc-86dd-b7f0c1148baf"
   },
   "outputs": [],
   "source": [
    "sns.countplot(x=df[\"Type\"])\n",
    "plt.show()"
   ]
  },
  {
   "cell_type": "markdown",
   "metadata": {
    "id": "wDxQOEFEZjUo"
   },
   "source": [
    "Visuellement, nous avons une sur-représentation de commentaires haineux : il faudrait potentiellement enrichir le jeu de données avec des commentaires non haineux.\n",
    "\n",
    "### ➡️ À toi de jouer\n",
    "\n",
    "Afficher le nombre de lignes de données pour chaque communauté/groupe d'individus."
   ]
  },
  {
   "cell_type": "code",
   "execution_count": null,
   "metadata": {
    "colab": {
     "base_uri": "https://localhost:8080/",
     "height": 335
    },
    "id": "v1cIWGX8ZapA",
    "outputId": "a9dd3611-676c-4188-84d4-68902cd2d3f2"
   },
   "outputs": [],
   "source": [
    "# TODO\n",
    "# ..."
   ]
  },
  {
   "cell_type": "markdown",
   "metadata": {
    "id": "XnFBnF8LZslz"
   },
   "source": [
    "Concernant les groupes d'individus, la plupart sont plutôt équilibrés, même si les 4 derniers groupes semblent être moins représentés.\n",
    "\n",
    "### ➡️ À toi de jouer\n",
    "\n",
    "Afficher le nombre de lignes de données `hateful` et `non-hateful` pour chaque communauté/groupe d'individus."
   ]
  },
  {
   "cell_type": "code",
   "execution_count": null,
   "metadata": {
    "colab": {
     "base_uri": "https://localhost:8080/",
     "height": 606
    },
    "id": "Ko2shHKrZr1u",
    "outputId": "5cb7bfa8-f99c-4796-fb7d-f12fb3e768c6"
   },
   "outputs": [],
   "source": [
    "# TODO\n",
    "# ..."
   ]
  }
 ],
 "metadata": {
  "accelerator": "GPU",
  "colab": {
   "provenance": []
  },
  "gpuClass": "standard",
  "kernelspec": {
   "display_name": "conda_tensorflow2_p310",
   "language": "python",
   "name": "conda_tensorflow2_p310"
  },
  "language_info": {
   "codemirror_mode": {
    "name": "ipython",
    "version": 3
   },
   "file_extension": ".py",
   "mimetype": "text/x-python",
   "name": "python",
   "nbconvert_exporter": "python",
   "pygments_lexer": "ipython3",
   "version": "3.10.8"
  }
 },
 "nbformat": 4,
 "nbformat_minor": 4
}
