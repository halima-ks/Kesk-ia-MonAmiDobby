{
  "cells": [
    {
      "cell_type": "markdown",
      "metadata": {
        "id": "pH5D9JLmTVnB"
      },
      "source": [
        "# Installation des dépendances\n",
        "\n",
        "Pour pouvoir exécuter ce Notebook, l'environnement de développement doit être bien configuré. Puisque dans ce POC nous utilisons un réseau de neurones avec une architecture LSTM, il faut installer quelques dépendances."
      ]
    },
    {
      "cell_type": "code",
      "execution_count": null,
      "metadata": {
        "colab": {
          "base_uri": "https://localhost:8080/"
        },
        "id": "SbSj5jFGS1RA",
        "outputId": "0cb492f9-96f1-477f-d3c9-4f5a523cbd96"
      },
      "outputs": [
        {
          "output_type": "stream",
          "name": "stdout",
          "text": [
            "\u001b[2K     \u001b[90m━━━━━━━━━━━━━━━━━━━━━━━━━━━━━━━━━━━━━━━\u001b[0m \u001b[32m468.7/468.7 KB\u001b[0m \u001b[31m2.7 MB/s\u001b[0m eta \u001b[36m0:00:00\u001b[0m\n",
            "\u001b[2K     \u001b[90m━━━━━━━━━━━━━━━━━━━━━━━━━━━━━━━━━━━━━━━━\u001b[0m \u001b[32m1.3/1.3 MB\u001b[0m \u001b[31m32.0 MB/s\u001b[0m eta \u001b[36m0:00:00\u001b[0m\n",
            "\u001b[2K     \u001b[90m━━━━━━━━━━━━━━━━━━━━━━━━━━━━━━━━━━━━━━━━\u001b[0m \u001b[32m1.0/1.0 MB\u001b[0m \u001b[31m23.8 MB/s\u001b[0m eta \u001b[36m0:00:00\u001b[0m\n",
            "\u001b[2K     \u001b[90m━━━━━━━━━━━━━━━━━━━━━━━━━━━━━━━━━━━━━━\u001b[0m \u001b[32m212.2/212.2 KB\u001b[0m \u001b[31m10.7 MB/s\u001b[0m eta \u001b[36m0:00:00\u001b[0m\n",
            "\u001b[2K     \u001b[90m━━━━━━━━━━━━━━━━━━━━━━━━━━━━━━━━━━━━━━━\u001b[0m \u001b[32m110.5/110.5 KB\u001b[0m \u001b[31m3.9 MB/s\u001b[0m eta \u001b[36m0:00:00\u001b[0m\n",
            "\u001b[2K     \u001b[90m━━━━━━━━━━━━━━━━━━━━━━━━━━━━━━━━━━━━━━━\u001b[0m \u001b[32m199.8/199.8 KB\u001b[0m \u001b[31m8.5 MB/s\u001b[0m eta \u001b[36m0:00:00\u001b[0m\n",
            "\u001b[2K     \u001b[90m━━━━━━━━━━━━━━━━━━━━━━━━━━━━━━━━━━━━━━━\u001b[0m \u001b[32m132.9/132.9 KB\u001b[0m \u001b[31m4.6 MB/s\u001b[0m eta \u001b[36m0:00:00\u001b[0m\n",
            "\u001b[2K     \u001b[90m━━━━━━━━━━━━━━━━━━━━━━━━━━━━━━━━━━━━━━━\u001b[0m \u001b[32m158.8/158.8 KB\u001b[0m \u001b[31m6.7 MB/s\u001b[0m eta \u001b[36m0:00:00\u001b[0m\n",
            "\u001b[2K     \u001b[90m━━━━━━━━━━━━━━━━━━━━━━━━━━━━━━━━━━━━━━\u001b[0m \u001b[32m264.6/264.6 KB\u001b[0m \u001b[31m12.9 MB/s\u001b[0m eta \u001b[36m0:00:00\u001b[0m\n",
            "\u001b[2K     \u001b[90m━━━━━━━━━━━━━━━━━━━━━━━━━━━━━━━━━━━━━━━\u001b[0m \u001b[32m114.2/114.2 KB\u001b[0m \u001b[31m1.7 MB/s\u001b[0m eta \u001b[36m0:00:00\u001b[0m\n",
            "\u001b[?25h"
          ]
        }
      ],
      "source": [
        "!pip install spacy datasets sentencepiece seaborn pandas -q"
      ]
    },
    {
      "cell_type": "markdown",
      "metadata": {
        "id": "7TPKXiSZTfIO"
      },
      "source": [
        "De même, nous allons utiliser un jeu de données supplémentaire de HuggingFace pour enrichir notre base."
      ]
    },
    {
      "cell_type": "code",
      "execution_count": null,
      "metadata": {
        "colab": {
          "base_uri": "https://localhost:8080/"
        },
        "id": "LwmiIuaATdl6",
        "outputId": "04e3054c-34b0-41c6-9f60-77e1255c3748"
      },
      "outputs": [
        {
          "output_type": "stream",
          "name": "stdout",
          "text": [
            "Error: Failed to call git rev-parse --git-dir: exit status 128 \n",
            "Git LFS initialized.\n",
            "Cloning into 'hatecheck-french'...\n",
            "remote: Enumerating objects: 15, done.\u001b[K\n",
            "remote: Total 15 (delta 0), reused 0 (delta 0), pack-reused 15\u001b[K\n",
            "Unpacking objects: 100% (15/15), 80.00 KiB | 900.00 KiB/s, done.\n"
          ]
        }
      ],
      "source": [
        "!git lfs install\n",
        "!git clone https://huggingface.co/datasets/Paul/hatecheck-french"
      ]
    },
    {
      "cell_type": "markdown",
      "metadata": {
        "id": "7U4s8s14Ty8A"
      },
      "source": [
        "Enfin, spaCy nous permettra de faire des opérations de traitement du texte adapté à la langue française."
      ]
    },
    {
      "cell_type": "code",
      "execution_count": null,
      "metadata": {
        "colab": {
          "base_uri": "https://localhost:8080/"
        },
        "id": "7Ywi2oekTv7l",
        "outputId": "938e0b12-4545-4f1c-8d5e-8327e6b17769"
      },
      "outputs": [
        {
          "output_type": "stream",
          "name": "stdout",
          "text": [
            "2023-04-01 13:53:22.664843: I tensorflow/core/platform/cpu_feature_guard.cc:182] This TensorFlow binary is optimized to use available CPU instructions in performance-critical operations.\n",
            "To enable the following instructions: AVX2 AVX512F FMA, in other operations, rebuild TensorFlow with the appropriate compiler flags.\n",
            "2023-04-01 13:53:24.237026: W tensorflow/compiler/tf2tensorrt/utils/py_utils.cc:38] TF-TRT Warning: Could not find TensorRT\n",
            "2023-04-01 13:53:27.935989: I tensorflow/compiler/xla/stream_executor/cuda/cuda_gpu_executor.cc:996] successful NUMA node read from SysFS had negative value (-1), but there must be at least one NUMA node, so returning NUMA node zero. See more at https://github.com/torvalds/linux/blob/v6.0/Documentation/ABI/testing/sysfs-bus-pci#L344-L355\n",
            "2023-04-01 13:53:27.936612: I tensorflow/compiler/xla/stream_executor/cuda/cuda_gpu_executor.cc:996] successful NUMA node read from SysFS had negative value (-1), but there must be at least one NUMA node, so returning NUMA node zero. See more at https://github.com/torvalds/linux/blob/v6.0/Documentation/ABI/testing/sysfs-bus-pci#L344-L355\n",
            "2023-04-01 13:53:27.936856: I tensorflow/compiler/xla/stream_executor/cuda/cuda_gpu_executor.cc:996] successful NUMA node read from SysFS had negative value (-1), but there must be at least one NUMA node, so returning NUMA node zero. See more at https://github.com/torvalds/linux/blob/v6.0/Documentation/ABI/testing/sysfs-bus-pci#L344-L355\n",
            "Looking in indexes: https://pypi.org/simple, https://us-python.pkg.dev/colab-wheels/public/simple/\n",
            "Collecting fr-core-news-sm==3.5.0\n",
            "  Downloading https://github.com/explosion/spacy-models/releases/download/fr_core_news_sm-3.5.0/fr_core_news_sm-3.5.0-py3-none-any.whl (16.3 MB)\n",
            "\u001b[2K     \u001b[90m━━━━━━━━━━━━━━━━━━━━━━━━━━━━━━━━━━━━━━━━\u001b[0m \u001b[32m16.3/16.3 MB\u001b[0m \u001b[31m24.7 MB/s\u001b[0m eta \u001b[36m0:00:00\u001b[0m\n",
            "\u001b[?25hRequirement already satisfied: spacy<3.6.0,>=3.5.0 in /usr/local/lib/python3.9/dist-packages (from fr-core-news-sm==3.5.0) (3.5.1)\n",
            "Requirement already satisfied: thinc<8.2.0,>=8.1.8 in /usr/local/lib/python3.9/dist-packages (from spacy<3.6.0,>=3.5.0->fr-core-news-sm==3.5.0) (8.1.9)\n",
            "Requirement already satisfied: numpy>=1.15.0 in /usr/local/lib/python3.9/dist-packages (from spacy<3.6.0,>=3.5.0->fr-core-news-sm==3.5.0) (1.22.4)\n",
            "Requirement already satisfied: preshed<3.1.0,>=3.0.2 in /usr/local/lib/python3.9/dist-packages (from spacy<3.6.0,>=3.5.0->fr-core-news-sm==3.5.0) (3.0.8)\n",
            "Requirement already satisfied: pathy>=0.10.0 in /usr/local/lib/python3.9/dist-packages (from spacy<3.6.0,>=3.5.0->fr-core-news-sm==3.5.0) (0.10.1)\n",
            "Requirement already satisfied: tqdm<5.0.0,>=4.38.0 in /usr/local/lib/python3.9/dist-packages (from spacy<3.6.0,>=3.5.0->fr-core-news-sm==3.5.0) (4.65.0)\n",
            "Requirement already satisfied: cymem<2.1.0,>=2.0.2 in /usr/local/lib/python3.9/dist-packages (from spacy<3.6.0,>=3.5.0->fr-core-news-sm==3.5.0) (2.0.7)\n",
            "Requirement already satisfied: typer<0.8.0,>=0.3.0 in /usr/local/lib/python3.9/dist-packages (from spacy<3.6.0,>=3.5.0->fr-core-news-sm==3.5.0) (0.7.0)\n",
            "Requirement already satisfied: requests<3.0.0,>=2.13.0 in /usr/local/lib/python3.9/dist-packages (from spacy<3.6.0,>=3.5.0->fr-core-news-sm==3.5.0) (2.27.1)\n",
            "Requirement already satisfied: packaging>=20.0 in /usr/local/lib/python3.9/dist-packages (from spacy<3.6.0,>=3.5.0->fr-core-news-sm==3.5.0) (23.0)\n",
            "Requirement already satisfied: smart-open<7.0.0,>=5.2.1 in /usr/local/lib/python3.9/dist-packages (from spacy<3.6.0,>=3.5.0->fr-core-news-sm==3.5.0) (6.3.0)\n",
            "Requirement already satisfied: spacy-legacy<3.1.0,>=3.0.11 in /usr/local/lib/python3.9/dist-packages (from spacy<3.6.0,>=3.5.0->fr-core-news-sm==3.5.0) (3.0.12)\n",
            "Requirement already satisfied: murmurhash<1.1.0,>=0.28.0 in /usr/local/lib/python3.9/dist-packages (from spacy<3.6.0,>=3.5.0->fr-core-news-sm==3.5.0) (1.0.9)\n",
            "Requirement already satisfied: catalogue<2.1.0,>=2.0.6 in /usr/local/lib/python3.9/dist-packages (from spacy<3.6.0,>=3.5.0->fr-core-news-sm==3.5.0) (2.0.8)\n",
            "Requirement already satisfied: spacy-loggers<2.0.0,>=1.0.0 in /usr/local/lib/python3.9/dist-packages (from spacy<3.6.0,>=3.5.0->fr-core-news-sm==3.5.0) (1.0.4)\n",
            "Requirement already satisfied: wasabi<1.2.0,>=0.9.1 in /usr/local/lib/python3.9/dist-packages (from spacy<3.6.0,>=3.5.0->fr-core-news-sm==3.5.0) (1.1.1)\n",
            "Requirement already satisfied: setuptools in /usr/local/lib/python3.9/dist-packages (from spacy<3.6.0,>=3.5.0->fr-core-news-sm==3.5.0) (67.6.1)\n",
            "Requirement already satisfied: srsly<3.0.0,>=2.4.3 in /usr/local/lib/python3.9/dist-packages (from spacy<3.6.0,>=3.5.0->fr-core-news-sm==3.5.0) (2.4.6)\n",
            "Requirement already satisfied: langcodes<4.0.0,>=3.2.0 in /usr/local/lib/python3.9/dist-packages (from spacy<3.6.0,>=3.5.0->fr-core-news-sm==3.5.0) (3.3.0)\n",
            "Requirement already satisfied: pydantic!=1.8,!=1.8.1,<1.11.0,>=1.7.4 in /usr/local/lib/python3.9/dist-packages (from spacy<3.6.0,>=3.5.0->fr-core-news-sm==3.5.0) (1.10.7)\n",
            "Requirement already satisfied: jinja2 in /usr/local/lib/python3.9/dist-packages (from spacy<3.6.0,>=3.5.0->fr-core-news-sm==3.5.0) (3.1.2)\n",
            "Requirement already satisfied: typing-extensions>=4.2.0 in /usr/local/lib/python3.9/dist-packages (from pydantic!=1.8,!=1.8.1,<1.11.0,>=1.7.4->spacy<3.6.0,>=3.5.0->fr-core-news-sm==3.5.0) (4.5.0)\n",
            "Requirement already satisfied: certifi>=2017.4.17 in /usr/local/lib/python3.9/dist-packages (from requests<3.0.0,>=2.13.0->spacy<3.6.0,>=3.5.0->fr-core-news-sm==3.5.0) (2022.12.7)\n",
            "Requirement already satisfied: urllib3<1.27,>=1.21.1 in /usr/local/lib/python3.9/dist-packages (from requests<3.0.0,>=2.13.0->spacy<3.6.0,>=3.5.0->fr-core-news-sm==3.5.0) (1.26.15)\n",
            "Requirement already satisfied: idna<4,>=2.5 in /usr/local/lib/python3.9/dist-packages (from requests<3.0.0,>=2.13.0->spacy<3.6.0,>=3.5.0->fr-core-news-sm==3.5.0) (3.4)\n",
            "Requirement already satisfied: charset-normalizer~=2.0.0 in /usr/local/lib/python3.9/dist-packages (from requests<3.0.0,>=2.13.0->spacy<3.6.0,>=3.5.0->fr-core-news-sm==3.5.0) (2.0.12)\n",
            "Requirement already satisfied: confection<1.0.0,>=0.0.1 in /usr/local/lib/python3.9/dist-packages (from thinc<8.2.0,>=8.1.8->spacy<3.6.0,>=3.5.0->fr-core-news-sm==3.5.0) (0.0.4)\n",
            "Requirement already satisfied: blis<0.8.0,>=0.7.8 in /usr/local/lib/python3.9/dist-packages (from thinc<8.2.0,>=8.1.8->spacy<3.6.0,>=3.5.0->fr-core-news-sm==3.5.0) (0.7.9)\n",
            "Requirement already satisfied: click<9.0.0,>=7.1.1 in /usr/local/lib/python3.9/dist-packages (from typer<0.8.0,>=0.3.0->spacy<3.6.0,>=3.5.0->fr-core-news-sm==3.5.0) (8.1.3)\n",
            "Requirement already satisfied: MarkupSafe>=2.0 in /usr/local/lib/python3.9/dist-packages (from jinja2->spacy<3.6.0,>=3.5.0->fr-core-news-sm==3.5.0) (2.1.2)\n",
            "Installing collected packages: fr-core-news-sm\n",
            "Successfully installed fr-core-news-sm-3.5.0\n",
            "\u001b[38;5;2m✔ Download and installation successful\u001b[0m\n",
            "You can now load the package via spacy.load('fr_core_news_sm')\n"
          ]
        }
      ],
      "source": [
        "!python -m spacy download fr_core_news_sm"
      ]
    },
    {
      "cell_type": "markdown",
      "source": [
        "Pour terminer, nous téléchargeons les données nettoyées prêtes pour l'entraînement."
      ],
      "metadata": {
        "id": "AedxZ_2cbAG6"
      }
    },
    {
      "cell_type": "code",
      "source": [
        "!wget https://blent-keskia.s3.eu-west-3.amazonaws.com/poc/cyberharcelement/data_clean.csv"
      ],
      "metadata": {
        "colab": {
          "base_uri": "https://localhost:8080/"
        },
        "id": "EsyORyO8a_xJ",
        "outputId": "2a434318-a8d1-4254-de35-5d8f614861e8"
      },
      "execution_count": 2,
      "outputs": [
        {
          "output_type": "stream",
          "name": "stdout",
          "text": [
            "--2023-04-07 16:16:28--  https://blent-keskia.s3.eu-west-3.amazonaws.com/poc/cyberharcelement/data_clean.csv\n",
            "Resolving blent-keskia.s3.eu-west-3.amazonaws.com (blent-keskia.s3.eu-west-3.amazonaws.com)... 16.12.18.10\n",
            "Connecting to blent-keskia.s3.eu-west-3.amazonaws.com (blent-keskia.s3.eu-west-3.amazonaws.com)|16.12.18.10|:443... connected.\n",
            "HTTP request sent, awaiting response... 200 OK\n",
            "Length: 2149965 (2.0M) [text/csv]\n",
            "Saving to: ‘data_clean.csv’\n",
            "\n",
            "data_clean.csv      100%[===================>]   2.05M  1.72MB/s    in 1.2s    \n",
            "\n",
            "2023-04-07 16:16:31 (1.72 MB/s) - ‘data_clean.csv’ saved [2149965/2149965]\n",
            "\n"
          ]
        }
      ]
    },
    {
      "cell_type": "code",
      "execution_count": 3,
      "metadata": {
        "id": "SWXZFVCfT3zX",
        "colab": {
          "base_uri": "https://localhost:8080/",
          "height": 206
        },
        "outputId": "785ea09e-39af-44b8-8073-2dbb9e1f60cf"
      },
      "outputs": [
        {
          "output_type": "execute_result",
          "data": {
            "text/plain": [
              "   Unnamed: 0                                               Text  Group  \\\n",
              "0     1435063  regardez tout le chemin jusqu'à la fin! ça en ...  other   \n",
              "1      622624  apporter sur le robitussin ... la médecine all...  other   \n",
              "2      830330  oh mon dieu. si vous n'avez jamais vu de radio...  other   \n",
              "3      165558  j'espère bien, mais je pourrais dépenser toute...  other   \n",
              "4        1668  les français parlent aux français... ils n'y p...  other   \n",
              "\n",
              "          Type           combined  combined_index  \n",
              "0  non-hateful  other non-hateful              23  \n",
              "1  non-hateful  other non-hateful              23  \n",
              "2  non-hateful  other non-hateful              23  \n",
              "3  non-hateful  other non-hateful              23  \n",
              "4      hateful      other hateful              22  "
            ],
            "text/html": [
              "\n",
              "  <div id=\"df-805601f3-3de0-420b-9929-c21d4abb65fe\">\n",
              "    <div class=\"colab-df-container\">\n",
              "      <div>\n",
              "<style scoped>\n",
              "    .dataframe tbody tr th:only-of-type {\n",
              "        vertical-align: middle;\n",
              "    }\n",
              "\n",
              "    .dataframe tbody tr th {\n",
              "        vertical-align: top;\n",
              "    }\n",
              "\n",
              "    .dataframe thead th {\n",
              "        text-align: right;\n",
              "    }\n",
              "</style>\n",
              "<table border=\"1\" class=\"dataframe\">\n",
              "  <thead>\n",
              "    <tr style=\"text-align: right;\">\n",
              "      <th></th>\n",
              "      <th>Unnamed: 0</th>\n",
              "      <th>Text</th>\n",
              "      <th>Group</th>\n",
              "      <th>Type</th>\n",
              "      <th>combined</th>\n",
              "      <th>combined_index</th>\n",
              "    </tr>\n",
              "  </thead>\n",
              "  <tbody>\n",
              "    <tr>\n",
              "      <th>0</th>\n",
              "      <td>1435063</td>\n",
              "      <td>regardez tout le chemin jusqu'à la fin! ça en ...</td>\n",
              "      <td>other</td>\n",
              "      <td>non-hateful</td>\n",
              "      <td>other non-hateful</td>\n",
              "      <td>23</td>\n",
              "    </tr>\n",
              "    <tr>\n",
              "      <th>1</th>\n",
              "      <td>622624</td>\n",
              "      <td>apporter sur le robitussin ... la médecine all...</td>\n",
              "      <td>other</td>\n",
              "      <td>non-hateful</td>\n",
              "      <td>other non-hateful</td>\n",
              "      <td>23</td>\n",
              "    </tr>\n",
              "    <tr>\n",
              "      <th>2</th>\n",
              "      <td>830330</td>\n",
              "      <td>oh mon dieu. si vous n'avez jamais vu de radio...</td>\n",
              "      <td>other</td>\n",
              "      <td>non-hateful</td>\n",
              "      <td>other non-hateful</td>\n",
              "      <td>23</td>\n",
              "    </tr>\n",
              "    <tr>\n",
              "      <th>3</th>\n",
              "      <td>165558</td>\n",
              "      <td>j'espère bien, mais je pourrais dépenser toute...</td>\n",
              "      <td>other</td>\n",
              "      <td>non-hateful</td>\n",
              "      <td>other non-hateful</td>\n",
              "      <td>23</td>\n",
              "    </tr>\n",
              "    <tr>\n",
              "      <th>4</th>\n",
              "      <td>1668</td>\n",
              "      <td>les français parlent aux français... ils n'y p...</td>\n",
              "      <td>other</td>\n",
              "      <td>hateful</td>\n",
              "      <td>other hateful</td>\n",
              "      <td>22</td>\n",
              "    </tr>\n",
              "  </tbody>\n",
              "</table>\n",
              "</div>\n",
              "      <button class=\"colab-df-convert\" onclick=\"convertToInteractive('df-805601f3-3de0-420b-9929-c21d4abb65fe')\"\n",
              "              title=\"Convert this dataframe to an interactive table.\"\n",
              "              style=\"display:none;\">\n",
              "        \n",
              "  <svg xmlns=\"http://www.w3.org/2000/svg\" height=\"24px\"viewBox=\"0 0 24 24\"\n",
              "       width=\"24px\">\n",
              "    <path d=\"M0 0h24v24H0V0z\" fill=\"none\"/>\n",
              "    <path d=\"M18.56 5.44l.94 2.06.94-2.06 2.06-.94-2.06-.94-.94-2.06-.94 2.06-2.06.94zm-11 1L8.5 8.5l.94-2.06 2.06-.94-2.06-.94L8.5 2.5l-.94 2.06-2.06.94zm10 10l.94 2.06.94-2.06 2.06-.94-2.06-.94-.94-2.06-.94 2.06-2.06.94z\"/><path d=\"M17.41 7.96l-1.37-1.37c-.4-.4-.92-.59-1.43-.59-.52 0-1.04.2-1.43.59L10.3 9.45l-7.72 7.72c-.78.78-.78 2.05 0 2.83L4 21.41c.39.39.9.59 1.41.59.51 0 1.02-.2 1.41-.59l7.78-7.78 2.81-2.81c.8-.78.8-2.07 0-2.86zM5.41 20L4 18.59l7.72-7.72 1.47 1.35L5.41 20z\"/>\n",
              "  </svg>\n",
              "      </button>\n",
              "      \n",
              "  <style>\n",
              "    .colab-df-container {\n",
              "      display:flex;\n",
              "      flex-wrap:wrap;\n",
              "      gap: 12px;\n",
              "    }\n",
              "\n",
              "    .colab-df-convert {\n",
              "      background-color: #E8F0FE;\n",
              "      border: none;\n",
              "      border-radius: 50%;\n",
              "      cursor: pointer;\n",
              "      display: none;\n",
              "      fill: #1967D2;\n",
              "      height: 32px;\n",
              "      padding: 0 0 0 0;\n",
              "      width: 32px;\n",
              "    }\n",
              "\n",
              "    .colab-df-convert:hover {\n",
              "      background-color: #E2EBFA;\n",
              "      box-shadow: 0px 1px 2px rgba(60, 64, 67, 0.3), 0px 1px 3px 1px rgba(60, 64, 67, 0.15);\n",
              "      fill: #174EA6;\n",
              "    }\n",
              "\n",
              "    [theme=dark] .colab-df-convert {\n",
              "      background-color: #3B4455;\n",
              "      fill: #D2E3FC;\n",
              "    }\n",
              "\n",
              "    [theme=dark] .colab-df-convert:hover {\n",
              "      background-color: #434B5C;\n",
              "      box-shadow: 0px 1px 3px 1px rgba(0, 0, 0, 0.15);\n",
              "      filter: drop-shadow(0px 1px 2px rgba(0, 0, 0, 0.3));\n",
              "      fill: #FFFFFF;\n",
              "    }\n",
              "  </style>\n",
              "\n",
              "      <script>\n",
              "        const buttonEl =\n",
              "          document.querySelector('#df-805601f3-3de0-420b-9929-c21d4abb65fe button.colab-df-convert');\n",
              "        buttonEl.style.display =\n",
              "          google.colab.kernel.accessAllowed ? 'block' : 'none';\n",
              "\n",
              "        async function convertToInteractive(key) {\n",
              "          const element = document.querySelector('#df-805601f3-3de0-420b-9929-c21d4abb65fe');\n",
              "          const dataTable =\n",
              "            await google.colab.kernel.invokeFunction('convertToInteractive',\n",
              "                                                     [key], {});\n",
              "          if (!dataTable) return;\n",
              "\n",
              "          const docLinkHtml = 'Like what you see? Visit the ' +\n",
              "            '<a target=\"_blank\" href=https://colab.research.google.com/notebooks/data_table.ipynb>data table notebook</a>'\n",
              "            + ' to learn more about interactive tables.';\n",
              "          element.innerHTML = '';\n",
              "          dataTable['output_type'] = 'display_data';\n",
              "          await google.colab.output.renderOutput(dataTable, element);\n",
              "          const docLink = document.createElement('div');\n",
              "          docLink.innerHTML = docLinkHtml;\n",
              "          element.appendChild(docLink);\n",
              "        }\n",
              "      </script>\n",
              "    </div>\n",
              "  </div>\n",
              "  "
            ]
          },
          "metadata": {},
          "execution_count": 3
        }
      ],
      "source": [
        "import os\n",
        "import seaborn as sns\n",
        "import pandas as pd\n",
        "import numpy as np\n",
        "import matplotlib.pyplot as plt\n",
        "\n",
        "sns.set()\n",
        "\n",
        "data = pd.read_csv(\"data_clean.csv\")\n",
        "data.head()"
      ]
    },
    {
      "cell_type": "markdown",
      "source": [
        "### ➡️ À toi de jouer\n",
        "\n",
        "En utilisant le `LabelEncoder` de Scikit-Learn, créer la colonne `combined_index` qui permet de transformer chaque modalité de la colonne `combined` en un nombre entier."
      ],
      "metadata": {
        "id": "P468JGhIbwAa"
      }
    },
    {
      "cell_type": "code",
      "execution_count": 4,
      "metadata": {
        "colab": {
          "base_uri": "https://localhost:8080/"
        },
        "id": "O6ylroCeNcLt",
        "outputId": "cd745dca-6372-4a3b-e1a6-31595551f60f"
      },
      "outputs": [
        {
          "output_type": "execute_result",
          "data": {
            "text/plain": [
              "other non-hateful               10748\n",
              "other hateful                    1552\n",
              "gay hateful                       741\n",
              "african_descent hateful           631\n",
              "special_needs hateful             550\n",
              "muslims hateful                   448\n",
              "women hateful                     431\n",
              "immigrants hateful                402\n",
              "left_wing_people hateful          314\n",
              "indian/hindu hateful              283\n",
              "arabs hateful                     241\n",
              "gay non-hateful                   232\n",
              "african_descent non-hateful       187\n",
              "immigrants non-hateful            160\n",
              "muslims non-hateful               156\n",
              "women non-hateful                 135\n",
              "special_needs non-hateful         131\n",
              "asians hateful                     77\n",
              "left_wing_people non-hateful       69\n",
              "jews hateful                       60\n",
              "arabs non-hateful                  57\n",
              "indian/hindu non-hateful           46\n",
              "christian hateful                  27\n",
              "hispanics hateful                  22\n",
              "jews non-hateful                   13\n",
              "asians non-hateful                 12\n",
              "christian non-hateful               4\n",
              "hispanics non-hateful               3\n",
              "Name: combined, dtype: int64"
            ]
          },
          "metadata": {},
          "execution_count": 4
        }
      ],
      "source": [
        "len(data[\"combined\"].unique())\n",
        "data[\"combined\"].value_counts()"
      ]
    },
    {
      "cell_type": "code",
      "source": [
        "len(data[\"combined_index\"].unique())"
      ],
      "metadata": {
        "colab": {
          "base_uri": "https://localhost:8080/"
        },
        "id": "RgYZhu-sKxln",
        "outputId": "7bf6e442-d4f4-4e82-efa2-821442528872"
      },
      "execution_count": 5,
      "outputs": [
        {
          "output_type": "execute_result",
          "data": {
            "text/plain": [
              "28"
            ]
          },
          "metadata": {},
          "execution_count": 5
        }
      ]
    },
    {
      "cell_type": "markdown",
      "metadata": {
        "id": "3TF2JRs5OkKj"
      },
      "source": [
        "# Modélisation avec un LSTM\n",
        "\n",
        "Dans cette modélisation, nous allons utiliser un LSTM afin de classifier correctement chaque corpus.\n",
        "\n",
        "Avant d'entraîner le modèle, assurons-nous bien d'avoir un GPU à disposition avec la commande suivante."
      ]
    },
    {
      "cell_type": "code",
      "execution_count": 6,
      "metadata": {
        "colab": {
          "base_uri": "https://localhost:8080/"
        },
        "id": "isxBcgJnOdFy",
        "outputId": "75a2963f-8745-4f02-d4db-32bdfcf7f8aa"
      },
      "outputs": [
        {
          "output_type": "stream",
          "name": "stdout",
          "text": [
            "Fri Apr  7 16:17:17 2023       \n",
            "+-----------------------------------------------------------------------------+\n",
            "| NVIDIA-SMI 525.85.12    Driver Version: 525.85.12    CUDA Version: 12.0     |\n",
            "|-------------------------------+----------------------+----------------------+\n",
            "| GPU  Name        Persistence-M| Bus-Id        Disp.A | Volatile Uncorr. ECC |\n",
            "| Fan  Temp  Perf  Pwr:Usage/Cap|         Memory-Usage | GPU-Util  Compute M. |\n",
            "|                               |                      |               MIG M. |\n",
            "|===============================+======================+======================|\n",
            "|   0  Tesla T4            Off  | 00000000:00:04.0 Off |                    0 |\n",
            "| N/A   56C    P8    10W /  70W |      0MiB / 15360MiB |      0%      Default |\n",
            "|                               |                      |                  N/A |\n",
            "+-------------------------------+----------------------+----------------------+\n",
            "                                                                               \n",
            "+-----------------------------------------------------------------------------+\n",
            "| Processes:                                                                  |\n",
            "|  GPU   GI   CI        PID   Type   Process name                  GPU Memory |\n",
            "|        ID   ID                                                   Usage      |\n",
            "|=============================================================================|\n",
            "|  No running processes found                                                 |\n",
            "+-----------------------------------------------------------------------------+\n"
          ]
        }
      ],
      "source": [
        "!nvidia-smi"
      ]
    },
    {
      "cell_type": "markdown",
      "metadata": {
        "id": "BKx-T1PmO16C"
      },
      "source": [
        "Si rien ne s'affiche, alors cela signifie que tu n'as pas de GPU à disposition, et que l'entraînement sera beaucoup trop long. 😢\n",
        "\n",
        "Vérifions que le GPU est bien reconnu par TensorFlow."
      ]
    },
    {
      "cell_type": "code",
      "execution_count": 7,
      "metadata": {
        "colab": {
          "base_uri": "https://localhost:8080/"
        },
        "id": "97QjRHySaxPe",
        "outputId": "e5041b28-a1f7-4f01-b15e-7988417e91a1"
      },
      "outputs": [
        {
          "output_type": "stream",
          "name": "stdout",
          "text": [
            "Nombre GPUs disponibles : 1\n"
          ]
        }
      ],
      "source": [
        "import tensorflow as tf\n",
        "\n",
        "print(\"Nombre GPUs disponibles :\", len(tf.config.list_physical_devices('GPU')))"
      ]
    },
    {
      "cell_type": "code",
      "execution_count": 8,
      "metadata": {
        "colab": {
          "base_uri": "https://localhost:8080/"
        },
        "id": "oSYtWJdhPQVm",
        "outputId": "db36b3ec-7616-4380-df0e-dd835cf01f21"
      },
      "outputs": [
        {
          "output_type": "stream",
          "name": "stdout",
          "text": [
            "Trouvé 22186 tokens uniques.\n"
          ]
        }
      ],
      "source": [
        "import sklearn\n",
        "import pandas as pd\n",
        "\n",
        "from keras import layers\n",
        "from keras.models import Sequential\n",
        "from keras.layers import SpatialDropout1D, Embedding, LSTM, Dense, GRU, BatchNormalization, Bidirectional\n",
        "from keras.callbacks import ModelCheckpoint, EarlyStopping\n",
        "\n",
        "from tensorflow.keras.preprocessing.text import Tokenizer\n",
        "from tensorflow.keras.preprocessing.sequence import pad_sequences\n",
        "from tensorflow.python.keras import regularizers\n",
        "\n",
        "from sklearn.metrics import confusion_matrix\n",
        "from sklearn.model_selection import train_test_split\n",
        "\n",
        "# Le nombre de mot les plus fréquents à conserver\n",
        "MAX_NB_WORDS = 50000\n",
        "# Le nombre de mots maximum dans chaque corpus\n",
        "MAX_SEQUENCE_LENGTH = 250\n",
        "# La dimension de la couche d'embedding\n",
        "EMBEDDING_DIM = 50\n",
        "\n",
        "tokenizer = Tokenizer(num_words=MAX_NB_WORDS)\n",
        "tokenizer.fit_on_texts(data['Text'].values)\n",
        "word_index = tokenizer.word_index\n",
        "\n",
        "print('Trouvé %s tokens uniques.' % len(word_index))"
      ]
    },
    {
      "cell_type": "code",
      "execution_count": 9,
      "metadata": {
        "id": "KCYvvA6bPeL5",
        "colab": {
          "base_uri": "https://localhost:8080/"
        },
        "outputId": "8aa8f6a6-76df-419e-b274-e9371bf10b2a"
      },
      "outputs": [
        {
          "output_type": "stream",
          "name": "stdout",
          "text": [
            "Dimensions du tenseur des features : (17732, 250)\n"
          ]
        }
      ],
      "source": [
        "X = tokenizer.texts_to_sequences(data['Text'].values)\n",
        "X = pad_sequences(X, maxlen=MAX_SEQUENCE_LENGTH)\n",
        "print('Dimensions du tenseur des features :', X.shape)"
      ]
    },
    {
      "cell_type": "code",
      "source": [
        "X"
      ],
      "metadata": {
        "colab": {
          "base_uri": "https://localhost:8080/"
        },
        "id": "rZCbtiJtLrlo",
        "outputId": "bd3da291-9896-40a0-a6dd-3bd2d8a01c68"
      },
      "execution_count": 14,
      "outputs": [
        {
          "output_type": "execute_result",
          "data": {
            "text/plain": [
              "array([[    0,     0,     0, ...,   630,     4,   674],\n",
              "       [    0,     0,     0, ...,   566,     7,    52],\n",
              "       [    0,     0,     0, ...,   320,    11,  1869],\n",
              "       ...,\n",
              "       [    0,     0,     0, ...,  1440,    10,   199],\n",
              "       [    0,     0,     0, ...,     1,   603,   757],\n",
              "       [    0,     0,     0, ...,   103, 22185, 22186]], dtype=int32)"
            ]
          },
          "metadata": {},
          "execution_count": 14
        }
      ]
    },
    {
      "cell_type": "code",
      "execution_count": 10,
      "metadata": {
        "colab": {
          "base_uri": "https://localhost:8080/"
        },
        "id": "GCVWcNAsaxPf",
        "outputId": "4dd2ba3f-b269-4b3d-a5dd-50fdf61eeef4"
      },
      "outputs": [
        {
          "output_type": "stream",
          "name": "stdout",
          "text": [
            "Dimension du tenseur des labels : (17732, 28)\n"
          ]
        }
      ],
      "source": [
        "Y = pd.get_dummies(data[\"combined\"]).values\n",
        "print('Dimension du tenseur des labels :', Y.shape)"
      ]
    },
    {
      "cell_type": "code",
      "source": [
        "Y"
      ],
      "metadata": {
        "colab": {
          "base_uri": "https://localhost:8080/"
        },
        "id": "AGtHgcWHL1HN",
        "outputId": "58c13cd4-8315-4a3a-c94e-3c54366835f3"
      },
      "execution_count": 16,
      "outputs": [
        {
          "output_type": "execute_result",
          "data": {
            "text/plain": [
              "array([[0, 0, 0, ..., 0, 0, 0],\n",
              "       [0, 0, 0, ..., 0, 0, 0],\n",
              "       [0, 0, 0, ..., 0, 0, 0],\n",
              "       ...,\n",
              "       [0, 0, 0, ..., 0, 0, 0],\n",
              "       [0, 0, 0, ..., 0, 0, 0],\n",
              "       [0, 0, 0, ..., 0, 0, 0]], dtype=uint8)"
            ]
          },
          "metadata": {},
          "execution_count": 16
        }
      ]
    },
    {
      "cell_type": "markdown",
      "source": [
        "### ➡️ À toi de jouer\n",
        "\n",
        "En utilisant la fonction `train_test_split`, sépare le jeu de données en deux sous-ensembles d'entraînement et de test avec un split à 10%."
      ],
      "metadata": {
        "id": "lH-C9SWZcDIO"
      }
    },
    {
      "cell_type": "code",
      "execution_count": 14,
      "metadata": {
        "colab": {
          "base_uri": "https://localhost:8080/"
        },
        "id": "RAVU7ogOaxPg",
        "outputId": "de04bc80-393c-48dd-8612-32810dc34c72"
      },
      "outputs": [
        {
          "output_type": "stream",
          "name": "stdout",
          "text": [
            "Training set shape: X_train = (15958, 250), Y_train = (15958, 28)\n",
            "Test set shape: X_test = (1774, 250), Y_test = (1774, 28)\n"
          ]
        }
      ],
      "source": [
        "from imblearn.over_sampling import RandomOverSampler\n",
        "import pandas as pd\n",
        "ros = RandomOverSampler(random_state=42)\n",
        "X_resampled, Y_resampled = ros.fit_resample(X, Y)\n",
        "\n",
        "X_train, X_test, Y_train, Y_test = train_test_split(X_resampled, Y_resampled, stratify=Y_resampled, test_size=0.1, random_state=42)\n",
        "\n",
        "# On sépare le jeu de données en sous-ensembles d'entraînement et de test\n",
        "#X_train, X_test, Y_train, Y_test = train_test_split(X,Y, train_size=0.9, test_size=0.1)\n",
        "#À CHERCHER pour la prochaine à faire un test_split representative de chaque classes\n",
        "#fonction stack ou join ou concatene\n",
        "#df.groupBy(\"y\").count().as() / sum()\n",
        "\n",
        "#print(X_train.shape, Y_train.shape)\n",
        "#print(X_test.shape, Y_test.shape)\n",
        "\n",
        "from sklearn.model_selection import StratifiedShuffleSplit\n",
        "\n",
        "split = StratifiedShuffleSplit(n_splits=1, test_size=0.1, random_state=42)\n",
        "for train_index, test_index in split.split(X, Y):\n",
        "    X_train = X[train_index]\n",
        "    X_test = X[test_index]\n",
        "    Y_train = Y[train_index]\n",
        "    Y_test = Y[test_index]\n",
        "\n",
        "print(\"Training set shape: X_train = {}, Y_train = {}\".format(X_train.shape, Y_train.shape))\n",
        "print(\"Test set shape: X_test = {}, Y_test = {}\".format(X_test.shape, Y_test.shape))\n",
        "\n",
        "\n",
        "#class_proportions = df.groupBy(\"Y\").count().as() / sum()\n",
        "#print(class_proportions)"
      ]
    },
    {
      "cell_type": "markdown",
      "source": [
        "### ➡️ À toi de jouer\n",
        "\n",
        "Ajouter une couche `tf.compat.v1.keras.layers.CuDNNLSTM` au bon endroit du modèle `Sequential` ci-dessous."
      ],
      "metadata": {
        "id": "8C-fF3ydcM4t"
      }
    },
    {
      "cell_type": "code",
      "execution_count": 15,
      "metadata": {
        "colab": {
          "base_uri": "https://localhost:8080/"
        },
        "id": "v-8GHKMnaxPg",
        "outputId": "0a2ce1f9-03b5-4dee-aa7d-c2904fe024c3"
      },
      "outputs": [
        {
          "output_type": "stream",
          "name": "stdout",
          "text": [
            "Epoch 1/20\n",
            "1437/1437 [==============================] - 47s 26ms/step - loss: 1.2383 - accuracy: 0.6879 - val_loss: 1.2992 - val_accuracy: 0.6660\n",
            "Epoch 2/20\n",
            "1437/1437 [==============================] - 18s 13ms/step - loss: 0.5553 - accuracy: 0.8425 - val_loss: 0.8906 - val_accuracy: 0.7957\n",
            "Epoch 3/20\n",
            "1437/1437 [==============================] - 17s 12ms/step - loss: 0.3492 - accuracy: 0.9022 - val_loss: 0.8315 - val_accuracy: 0.8170\n",
            "Epoch 4/20\n",
            "1437/1437 [==============================] - 17s 12ms/step - loss: 0.2514 - accuracy: 0.9275 - val_loss: 0.7829 - val_accuracy: 0.8352\n",
            "Epoch 5/20\n",
            "1437/1437 [==============================] - 19s 13ms/step - loss: 0.1950 - accuracy: 0.9414 - val_loss: 0.8631 - val_accuracy: 0.8264\n",
            "Epoch 6/20\n",
            "1437/1437 [==============================] - 18s 12ms/step - loss: 0.1481 - accuracy: 0.9561 - val_loss: 1.0339 - val_accuracy: 0.8170\n",
            "Epoch 7/20\n",
            "1437/1437 [==============================] - 16s 11ms/step - loss: 0.1255 - accuracy: 0.9621 - val_loss: 1.1064 - val_accuracy: 0.8214\n",
            "Epoch 8/20\n",
            "1437/1437 [==============================] - 16s 11ms/step - loss: 0.1123 - accuracy: 0.9666 - val_loss: 1.0831 - val_accuracy: 0.8327\n",
            "Epoch 9/20\n",
            "1437/1437 [==============================] - 17s 12ms/step - loss: 0.1016 - accuracy: 0.9717 - val_loss: 1.0743 - val_accuracy: 0.8246\n"
          ]
        }
      ],
      "source": [
        "tf.keras.regularizers.L2(l2=0.1)\n",
        "tf.keras.regularizers.L1L2(l1=0.1, l2=0.1)\n",
        "\n",
        "\n",
        "model = Sequential()\n",
        "model.add(Embedding(MAX_NB_WORDS, EMBEDDING_DIM, input_length=X.shape[1]))\n",
        "model.add(SpatialDropout1D(0.3))\n",
        "model.add(tf.compat.v1.keras.layers.CuDNNLSTM(units=64))  # Couche à ajouter\n",
        "model.add(BatchNormalization())\n",
        "model.add(Dense(Y.shape[1], activation='softmax'))\n",
        "\n",
        "# FIN TODO\n",
        "\n",
        "# On prépare le modèle avec une perte entropie croisée\n",
        "model.compile(loss='categorical_crossentropy', optimizer='adam', metrics=['accuracy'])\n",
        "\n",
        "epochs = 20\n",
        "batch_size = 10\n",
        "\n",
        "# On entraîne le modèle\n",
        "history = model.fit(\n",
        "    X_train,\n",
        "    Y_train,\n",
        "    epochs=epochs,\n",
        "    batch_size=batch_size,\n",
        "    validation_split=0.1,\n",
        "    callbacks=[EarlyStopping(monitor='val_loss', patience=5, min_delta=0.0001)]\n",
        ")"
      ]
    },
    {
      "cell_type": "code",
      "execution_count": 16,
      "metadata": {
        "id": "zUs_UWniaxPg",
        "outputId": "1ff230a1-9e1a-44e7-cf74-d680dfad11bc",
        "colab": {
          "base_uri": "https://localhost:8080/",
          "height": 857
        }
      },
      "outputs": [
        {
          "output_type": "display_data",
          "data": {
            "text/plain": [
              "<Figure size 1400x1000 with 1 Axes>"
            ],
            "image/png": "[encoded data removed]"
          },
          "metadata": {}
        }
      ],
      "source": [
        "plt.figure(figsize=(14, 10))\n",
        "plt.title('Loss')\n",
        "plt.plot(history.history['loss'], label='loss')\n",
        "plt.plot(history.history['val_accuracy'], label='Acc')\n",
        "\n",
        "plt.legend()\n",
        "plt.show()"
      ]
    },
    {
      "cell_type": "markdown",
      "metadata": {
        "id": "OEkenbAvbX3K"
      },
      "source": [
        "# Inférence\n",
        "\n",
        "Maintenant, essayons de charger notre modèle."
      ]
    },
    {
      "cell_type": "code",
      "execution_count": 17,
      "metadata": {
        "id": "3QAPXD2BbNYQ"
      },
      "outputs": [],
      "source": [
        "labels = ['african_descent/hateful', 'arabs/hateful', 'asians/hateful', 'christian/hateful', 'gay/hateful', 'hispanics/hateful', 'immigrants/hateful', 'indian/hindu/hateful',\n",
        "         'jews/hateful', 'left_wing_people/hateful', 'muslims/hateful', 'other/hateful',  'special_needs/hateful', \n",
        "         'women/hateful', 'african_descent/non-hateful', 'arabs/non-hateful', 'asians/non-hateful', 'christian/non-hateful', 'gay/non-hateful', 'hispanics/non-hateful', 'immigrants/non-hateful',\n",
        "         'indian/hindu-non-hateful', 'jews/non-hateful', 'left_wing_people/non-hateful', 'muslims/non-hateful', 'other/non-hateful', \n",
        "         'special_needs/non-hateful', 'women/non-hateful']\n",
        "\n",
        "def predict(text):\n",
        "    seq = tokenizer.texts_to_sequences([text])\n",
        "    padded = pad_sequences(seq, maxlen=MAX_SEQUENCE_LENGTH)\n",
        "    preds = model.predict(padded)\n",
        "    i = np.argmax(preds[0])\n",
        "    return labels[i], preds[0][i]"
      ]
    },
    {
      "cell_type": "markdown",
      "metadata": {
        "id": "3inohNevbqIk"
      },
      "source": [
        "Et maintenant, il suffit de taper une phrase pour voir la sortie du modèle."
      ]
    },
    {
      "cell_type": "code",
      "execution_count": 18,
      "metadata": {
        "id": "wSTJWX3ubwG5",
        "colab": {
          "base_uri": "https://localhost:8080/"
        },
        "outputId": "9598b54b-ee7e-4997-800e-c7715dbdfadb"
      },
      "outputs": [
        {
          "output_type": "stream",
          "name": "stdout",
          "text": [
            "1/1 [==============================] - 1s 688ms/step\n"
          ]
        },
        {
          "output_type": "execute_result",
          "data": {
            "text/plain": [
              "('left_wing_people/non-hateful', 0.99990046)"
            ]
          },
          "metadata": {},
          "execution_count": 18
        }
      ],
      "source": [
        "predict(\"fuck arabs\")"
      ]
    }
  ],
  "metadata": {
    "accelerator": "GPU",
    "colab": {
      "provenance": []
    },
    "gpuClass": "standard",
    "kernelspec": {
      "display_name": "conda_tensorflow2_p310",
      "language": "python",
      "name": "conda_tensorflow2_p310"
    },
    "language_info": {
      "codemirror_mode": {
        "name": "ipython",
        "version": 3
      },
      "file_extension": ".py",
      "mimetype": "text/x-python",
      "name": "python",
      "nbconvert_exporter": "python",
      "pygments_lexer": "ipython3",
      "version": "3.10.6"
    }
  },
  "nbformat": 4,
  "nbformat_minor": 0
}